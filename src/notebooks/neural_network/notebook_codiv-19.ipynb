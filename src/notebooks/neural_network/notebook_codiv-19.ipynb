{
 "cells": [
  {
   "cell_type": "code",
   "execution_count": 43,
   "metadata": {
    "collapsed": true,
    "pycharm": {
     "is_executing": false
    }
   },
   "outputs": [],
   "source": [
    "# import zakladnych kniznic\n",
    "import numpy as np\n",
    "import pandas as pd\n",
    "import matplotlib\n",
    "import matplotlib.pyplot as plt\n",
    "%matplotlib inline\n",
    "from sklearn.linear_model import LinearRegression\n",
    "from sklearn.preprocessing import PolynomialFeatures\n",
    "from sklearn.pipeline import Pipeline"
   ]
  },
  {
   "cell_type": "code",
   "execution_count": 50,
   "outputs": [],
   "source": [
    "# nacitanie suborov\n",
    "df_train = pd.read_csv(\"E:/Skola/PycharmProjects/nn_covid-19_predictions/data/models/c19-week-4/train.csv\", parse_dates=['Date'])\n",
    "df_test = pd.read_csv(\"E:/Skola/PycharmProjects/nn_covid-19_predictions/data/models/c19-week-4/test.csv\", parse_dates=['Date'])"
   ],
   "metadata": {
    "collapsed": false,
    "pycharm": {
     "name": "#%%\n",
     "is_executing": false
    }
   }
  },
  {
   "cell_type": "code",
   "execution_count": 45,
   "outputs": [
    {
     "name": "stdout",
     "text": [
      "<class 'pandas.core.frame.DataFrame'>\nRangeIndex: 713378 entries, 0 to 713377\nData columns (total 9 columns):\n #   Column          Non-Null Count   Dtype         \n---  ------          --------------   -----         \n 0   Id              713378 non-null  int64         \n 1   County          647458 non-null  object        \n 2   Province_State  674856 non-null  object        \n 3   Country_Region  713378 non-null  object        \n 4   Population      713378 non-null  int64         \n 5   Weight          713378 non-null  float64       \n 6   Date            713378 non-null  datetime64[ns]\n 7   Target          713378 non-null  object        \n 8   TargetValue     713378 non-null  float64       \ndtypes: datetime64[ns](1), float64(2), int64(2), object(4)\nmemory usage: 49.0+ MB\n<class 'pandas.core.frame.DataFrame'>\nRangeIndex: 311670 entries, 0 to 311669\nData columns (total 8 columns):\n #   Column          Non-Null Count   Dtype         \n---  ------          --------------   -----         \n 0   ForecastId      311670 non-null  int64         \n 1   County          282870 non-null  object        \n 2   Province_State  294840 non-null  object        \n 3   Country_Region  311670 non-null  object        \n 4   Population      311670 non-null  int64         \n 5   Weight          311670 non-null  float64       \n 6   Date            311670 non-null  datetime64[ns]\n 7   Target          311670 non-null  object        \ndtypes: datetime64[ns](1), float64(1), int64(2), object(4)\nmemory usage: 19.0+ MB\n"
     ],
     "output_type": "stream"
    }
   ],
   "source": [
    "# vypis hlaviciek a opisov datasetov\n",
    "df_train.head()\n",
    "df_train.describe()\n",
    "df_train.info()\n",
    "\n",
    "df_test.head()\n",
    "df_train.describe()\n",
    "df_test.info()"
   ],
   "metadata": {
    "collapsed": false,
    "pycharm": {
     "name": "#%%\n",
     "is_executing": false
    }
   }
  },
  {
   "cell_type": "code",
   "execution_count": 46,
   "outputs": [],
   "source": [
    "# teraz berieme policko Date ako String, preto ho preformatujem na Datetime format\n",
    "df_train['Date'] = pd.to_datetime(df_train['Date'], format='%Y-%m-%d')\n",
    "df_test['Date'] = pd.to_datetime(df_test['Date'], format='%Y-%m-%d')\n",
    "\n",
    "# a teraz ho uz vieme citat ako datum"
   ],
   "metadata": {
    "collapsed": false,
    "pycharm": {
     "name": "#%%\n",
     "is_executing": false
    }
   }
  },
  {
   "cell_type": "code",
   "execution_count": 48,
   "outputs": [
    {
     "name": "stdout",
     "text": [
      "Najstarší dátum z trénovacej množiny: 2020-01-23 00:00:00\nNajnovší dátum z trénovacej množiny: 2020-05-04 00:00:00\n"
     ],
     "output_type": "stream"
    }
   ],
   "source": [
    "# vypis najstarsieho datumu a najnovsieho datumu z trenovacej mnoziny\n",
    "train_date_min = df_train['Date'].min()\n",
    "train_date_max = df_train['Date'].max()\n",
    "print('Najstarší dátum z trénovacej množiny: {}'.format(train_date_min))\n",
    "print('Najnovší dátum z trénovacej množiny: {}'.format(train_date_max))"
   ],
   "metadata": {
    "collapsed": false,
    "pycharm": {
     "name": "#%%\n",
     "is_executing": false
    }
   }
  },
  {
   "cell_type": "code",
   "execution_count": 49,
   "outputs": [
    {
     "name": "stdout",
     "text": [
      "Najstarší dátum z testovacej množiny: 2020-04-27 00:00:00\nNajnovší dátum z testovacej množiny: 2020-06-10 00:00:00\n"
     ],
     "output_type": "stream"
    }
   ],
   "source": [
    "# to iste pre testovaciu mnozinu\n",
    "test_date_min = df_test['Date'].min()\n",
    "test_date_max = df_test['Date'].max()\n",
    "print('Najstarší dátum z testovacej množiny: {}'.format(test_date_min))\n",
    "print('Najnovší dátum z testovacej množiny: {}'.format(test_date_max))"
   ],
   "metadata": {
    "collapsed": false,
    "pycharm": {
     "name": "#%%\n",
     "is_executing": false
    }
   }
  },
  {
   "cell_type": "markdown",
   "source": [
    "# Predikcia nových nakazení"
   ],
   "metadata": {
    "collapsed": false,
    "pycharm": {
     "name": "#%% md\n"
    }
   }
  },
  {
   "cell_type": "code",
   "execution_count": 60,
   "outputs": [],
   "source": [
    "df_train.head()\n",
    "x_train = df_train[[]]"
   ],
   "metadata": {
    "collapsed": false,
    "pycharm": {
     "name": "#%%\n",
     "is_executing": false
    }
   }
  },
  {
   "cell_type": "code",
   "source": [
    "\n"
   ],
   "metadata": {
    "collapsed": false,
    "pycharm": {
     "name": "#%%\n"
    }
   },
   "execution_count": null,
   "outputs": []
  }
 ],
 "metadata": {
  "kernelspec": {
   "display_name": "Python 3",
   "language": "python",
   "name": "python3"
  },
  "language_info": {
   "codemirror_mode": {
    "name": "ipython",
    "version": 2
   },
   "file_extension": ".py",
   "mimetype": "text/x-python",
   "name": "python",
   "nbconvert_exporter": "python",
   "pygments_lexer": "ipython2",
   "version": "2.7.6"
  },
  "pycharm": {
   "stem_cell": {
    "cell_type": "raw",
    "source": [],
    "metadata": {
     "collapsed": false
    }
   }
  }
 },
 "nbformat": 4,
 "nbformat_minor": 0
}