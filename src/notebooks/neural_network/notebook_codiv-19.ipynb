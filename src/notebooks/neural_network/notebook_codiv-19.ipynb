{
 "cells": [
  {
   "cell_type": "code",
   "execution_count": 89,
   "metadata": {
    "collapsed": true,
    "pycharm": {
     "is_executing": false
    }
   },
   "outputs": [],
   "source": [
    "# import zakladnych kniznic\n",
    "import numpy as np\n",
    "import pandas as pd\n",
    "import matplotlib\n",
    "import matplotlib.pyplot as plt\n",
    "%matplotlib inline\n",
    "from sklearn.linear_model import LinearRegression\n",
    "from sklearn.preprocessing import PolynomialFeatures\n",
    "from sklearn.pipeline import Pipeline"
   ]
  },
  {
   "cell_type": "code",
   "execution_count": 101,
   "outputs": [],
   "source": [
    "# nacitanie suborov\n",
    "df_train = pd.read_csv(\"E:/Skola/PycharmProjects/nn_covid-19_predictions/data/models/c19-week-4/train.csv\", parse_dates=['Date'])\n",
    "df_test = pd.read_csv(\"E:/Skola/PycharmProjects/nn_covid-19_predictions/data/models/c19-week-4/test.csv\", parse_dates=['Date'])"
   ],
   "metadata": {
    "collapsed": false,
    "pycharm": {
     "name": "#%%\n",
     "is_executing": false
    }
   }
  },
  {
   "cell_type": "code",
   "execution_count": 102,
   "outputs": [
    {
     "name": "stdout",
     "text": [
      "<class 'pandas.core.frame.DataFrame'>\nRangeIndex: 27231 entries, 0 to 27230\nData columns (total 6 columns):\n #   Column          Non-Null Count  Dtype         \n---  ------          --------------  -----         \n 0   Id              27231 non-null  int64         \n 1   Province_State  11571 non-null  object        \n 2   Country_Region  27231 non-null  object        \n 3   Date            27231 non-null  datetime64[ns]\n 4   ConfirmedCases  27231 non-null  float64       \n 5   Fatalities      27231 non-null  float64       \ndtypes: datetime64[ns](1), float64(2), int64(1), object(2)\nmemory usage: 1.2+ MB\n<class 'pandas.core.frame.DataFrame'>\nRangeIndex: 13459 entries, 0 to 13458\nData columns (total 4 columns):\n #   Column          Non-Null Count  Dtype         \n---  ------          --------------  -----         \n 0   ForecastId      13459 non-null  int64         \n 1   Province_State  5719 non-null   object        \n 2   Country_Region  13459 non-null  object        \n 3   Date            13459 non-null  datetime64[ns]\ndtypes: datetime64[ns](1), int64(1), object(2)\nmemory usage: 420.7+ KB\n"
     ],
     "output_type": "stream"
    }
   ],
   "source": [
    "# vypis hlaviciek a opisov datasetov\n",
    "df_train.head()\n",
    "df_train.describe()\n",
    "df_train.info()\n",
    "\n",
    "df_test.head()\n",
    "df_train.describe()\n",
    "df_test.info()"
   ],
   "metadata": {
    "collapsed": false,
    "pycharm": {
     "name": "#%%\n",
     "is_executing": false
    }
   }
  },
  {
   "cell_type": "code",
   "execution_count": 103,
   "outputs": [],
   "source": [
    "# teraz berieme policko Date ako String, preto ho preformatujem na Datetime format\n",
    "df_train['Date'] = pd.to_datetime(df_train['Date'], format='%Y-%m-%d')\n",
    "df_test['Date'] = pd.to_datetime(df_test['Date'], format='%Y-%m-%d')\n",
    "\n",
    "# a teraz ho uz vieme citat ako datum"
   ],
   "metadata": {
    "collapsed": false,
    "pycharm": {
     "name": "#%%\n",
     "is_executing": false
    }
   }
  },
  {
   "cell_type": "code",
   "execution_count": 104,
   "outputs": [
    {
     "name": "stdout",
     "text": [
      "Najstarší dátum z trénovacej množiny: 2020-01-22 00:00:00\nNajnovší dátum z trénovacej množiny: 2020-04-17 00:00:00\n"
     ],
     "output_type": "stream"
    }
   ],
   "source": [
    "# vypis najstarsieho datumu a najnovsieho datumu z trenovacej mnoziny\n",
    "train_date_min = df_train['Date'].min()\n",
    "train_date_max = df_train['Date'].max()\n",
    "print('Najstarší dátum z trénovacej množiny: {}'.format(train_date_min))\n",
    "print('Najnovší dátum z trénovacej množiny: {}'.format(train_date_max))"
   ],
   "metadata": {
    "collapsed": false,
    "pycharm": {
     "name": "#%%\n",
     "is_executing": false
    }
   }
  },
  {
   "cell_type": "code",
   "execution_count": 105,
   "outputs": [
    {
     "name": "stdout",
     "text": [
      "Najstarší dátum z testovacej množiny: 2020-04-02 00:00:00\nNajnovší dátum z testovacej množiny: 2020-05-14 00:00:00\n"
     ],
     "output_type": "stream"
    }
   ],
   "source": [
    "# to iste pre testovaciu mnozinu\n",
    "test_date_min = df_test['Date'].min()\n",
    "test_date_max = df_test['Date'].max()\n",
    "print('Najstarší dátum z testovacej množiny: {}'.format(test_date_min))\n",
    "print('Najnovší dátum z testovacej množiny: {}'.format(test_date_max))"
   ],
   "metadata": {
    "collapsed": false,
    "pycharm": {
     "name": "#%%\n",
     "is_executing": false
    }
   }
  },
  {
   "cell_type": "markdown",
   "source": [
    "# Predikcia nových nakazení"
   ],
   "metadata": {
    "collapsed": false,
    "pycharm": {
     "name": "#%% md\n"
    }
   }
  },
  {
   "cell_type": "code",
   "execution_count": 106,
   "outputs": [],
   "source": [
    "df_train.head()\n",
    "x_train = df_train[[]]"
   ],
   "metadata": {
    "collapsed": false,
    "pycharm": {
     "name": "#%%\n",
     "is_executing": false
    }
   }
  },
  {
   "cell_type": "code",
   "source": [
    "# Pre predikciu novych pripadov vyuzijem Linearnu regresiu\n",
    "# Pridala som import sklearn\n",
    "for country in df_train['Country_Region'].unique():\n",
    "    print('Robim model pre krajinu: {}'.format(country))\n",
    "    df_train_country = df_train[df_train['Country_Region'] == country]\n",
    "    df_test_country = df_test[df_test['Country_Region'] == country]\n",
    "    \n",
    "    # zaujima ma, ci ma krajina provinciu, ak ano -> vetva else\n",
    "    if df_train_country['Province_State'].isna().unique().any():\n",
    "        # indexujem krajiny v csv subore - od a do\n",
    "        x_train = np.array(range(len(df_train_country))).reshape((-1, 1))\n",
    "        # print(x_train)\n",
    "        y_train = df_train_country['ConfirmedCases']\n",
    "        # print(y_train)\n",
    "        \n",
    "        # ucenie siete\n",
    "        model= Pipeline([('poly', PolynomialFeatures(degree=2)), ('linear', LinearRegression(fit_intercept=False))])\n",
    "        model.fit(x_train, y_train)\n",
    "        \n",
    "        x_test = np.array(range(len(df_test_country))).reshape((-1, 1))\n",
    "        prediction = model.predict(x_test)\n",
    "        \n",
    "        # negativne pripady nahradim nulou\n",
    "        prediction[prediction < 0] = 0\n",
    "        \n",
    "        # Vramci ConfirmedCases pridam sa novy stlpec v dataframe df_test kam vlozim predikciu k danej krajine\n",
    "        df_test.loc[df_test['Country_Region'] == country, 'ConfirmedCases'] = prediction\n",
    "        # print(type(prediction))\n",
    "        \n",
    "    else:\n",
    "        for state in df_train_country['Province_State'].unique():\n",
    "            df_train_state = df_train_country[df_train_country['Province_State'] == state]\n",
    "            df_test_state = df_test_country[df_test_country['Province_State'] == state]\n",
    "            \n",
    "            x_train = np.array(range(len(df_train_state))).reshape(-1, 1)\n",
    "            y_train = df_train_state['ConfirmedCases']\n",
    "            \n",
    "            model= Pipeline([('poly', PolynomialFeatures(degree=2)), ('linear', LinearRegression(fit_intercept=False))])\n",
    "            model.fit(x_train, y_train)\n",
    "            \n",
    "            x_test = np.array(range(len(df_test_state))).reshape((-1, 1))\n",
    "            prediction = model.predict(x_test)\n",
    "            \n",
    "            prediction[prediction < 0] = 0\n",
    "            \n",
    "            # Vramci ConfirmedCases pridam sa novy stlpec v dataframe df_test kam vlozim predikciu k danej krajine\n",
    "            df_test.loc[(df_test['Country_Region'] == country) & (df_test['Province_State'] == state), 'ConfirmedCases'] = prediction"
   ],
   "metadata": {
    "collapsed": false,
    "pycharm": {
     "name": "#%%\n",
     "is_executing": false
    }
   },
   "execution_count": 129,
   "outputs": [
    {
     "name": "stdout",
     "text": [
      "Robim model pre krajinu: Afghanistan\nRobim model pre krajinu: Albania\nRobim model pre krajinu: Algeria\nRobim model pre krajinu: Andorra\nRobim model pre krajinu: Angola\nRobim model pre krajinu: Antigua and Barbuda\nRobim model pre krajinu: Argentina\nRobim model pre krajinu: Armenia\nRobim model pre krajinu: Australia\nRobim model pre krajinu: Austria\nRobim model pre krajinu: Azerbaijan\nRobim model pre krajinu: Bahamas\nRobim model pre krajinu: Bahrain\nRobim model pre krajinu: Bangladesh\nRobim model pre krajinu: Barbados\nRobim model pre krajinu: Belarus\nRobim model pre krajinu: Belgium\nRobim model pre krajinu: Belize\nRobim model pre krajinu: Benin\nRobim model pre krajinu: Bhutan\nRobim model pre krajinu: Bolivia\nRobim model pre krajinu: Bosnia and Herzegovina\nRobim model pre krajinu: Botswana\nRobim model pre krajinu: Brazil\nRobim model pre krajinu: Brunei\nRobim model pre krajinu: Bulgaria\nRobim model pre krajinu: Burkina Faso\nRobim model pre krajinu: Burma\nRobim model pre krajinu: Burundi\nRobim model pre krajinu: Cabo Verde\nRobim model pre krajinu: Cambodia",
      "\nRobim model pre krajinu: Cameroon\nRobim model pre krajinu: Canada\nRobim model pre krajinu: Central African Republic\nRobim model pre krajinu: Chad\nRobim model pre krajinu: Chile\nRobim model pre krajinu: China\n",
      "Robim model pre krajinu: Colombia\nRobim model pre krajinu: Congo (Brazzaville)\nRobim model pre krajinu: Congo (Kinshasa)\nRobim model pre krajinu: Costa Rica\nRobim model pre krajinu: Cote d'Ivoire\nRobim model pre krajinu: Croatia\nRobim model pre krajinu: Cuba\nRobim model pre krajinu: Cyprus\nRobim model pre krajinu: Czechia\nRobim model pre krajinu: Denmark\nRobim model pre krajinu: Diamond Princess\nRobim model pre krajinu: Djibouti\nRobim model pre krajinu: Dominica\nRobim model pre krajinu: Dominican Republic\nRobim model pre krajinu: Ecuador\nRobim model pre krajinu: Egypt\nRobim model pre krajinu: El Salvador\nRobim model pre krajinu: Equatorial Guinea\nRobim model pre krajinu: Eritrea\nRobim model pre krajinu: Estonia\nRobim model pre krajinu: Eswatini\nRobim model pre krajinu: Ethiopia\nRobim model pre krajinu: Fiji\nRobim model pre krajinu: Finland\nRobim model pre krajinu: France\nRobim model pre krajinu: Gabon\nRobim model pre krajinu: Gambia\nRobim model pre krajinu: Georgia\nRobim model pre krajinu: Germany\nRobim model pre krajinu: Ghana\nRobim model pre krajinu: Greece\nRobim model pre krajinu: Grenada\nRobim model pre krajinu: Guatemala\nRobim model pre krajinu: Guinea\nRobim model pre krajinu: Guinea-Bissau\nRobim model pre krajinu: Guyana\nRobim model pre krajinu: Haiti\nRobim model pre krajinu: Holy See\nRobim model pre krajinu: Honduras\nRobim model pre krajinu: Hungary",
      "\nRobim model pre krajinu: Iceland\nRobim model pre krajinu: India\nRobim model pre krajinu: Indonesia\nRobim model pre krajinu: Iran\nRobim model pre krajinu: Iraq\nRobim model pre krajinu: Ireland\nRobim model pre krajinu: Israel\nRobim model pre krajinu: Italy\nRobim model pre krajinu: Jamaica\nRobim model pre krajinu: Japan\nRobim model pre krajinu: Jordan\nRobim model pre krajinu: Kazakhstan\nRobim model pre krajinu: Kenya\nRobim model pre krajinu: Korea, South\nRobim model pre krajinu: Kosovo\nRobim model pre krajinu: Kuwait\nRobim model pre krajinu: Kyrgyzstan\nRobim model pre krajinu: Laos\nRobim model pre krajinu: Latvia\nRobim model pre krajinu: Lebanon\nRobim model pre krajinu: Liberia\nRobim model pre krajinu: Libya\nRobim model pre krajinu: Liechtenstein\nRobim model pre krajinu: Lithuania\nRobim model pre krajinu: Luxembourg\nRobim model pre krajinu: MS Zaandam\nRobim model pre krajinu: Madagascar\nRobim model pre krajinu: Malawi\nRobim model pre krajinu: Malaysia\nRobim model pre krajinu: Maldives\nRobim model pre krajinu: Mali",
      "\nRobim model pre krajinu: Malta\nRobim model pre krajinu: Mauritania\nRobim model pre krajinu: Mauritius\nRobim model pre krajinu: Mexico\nRobim model pre krajinu: Moldova\nRobim model pre krajinu: Monaco\nRobim model pre krajinu: Mongolia\nRobim model pre krajinu: Montenegro\nRobim model pre krajinu: Morocco\nRobim model pre krajinu: Mozambique\nRobim model pre krajinu: Namibia\nRobim model pre krajinu: Nepal\nRobim model pre krajinu: Netherlands\nRobim model pre krajinu: New Zealand\nRobim model pre krajinu: Nicaragua\nRobim model pre krajinu: Niger\nRobim model pre krajinu: Nigeria\nRobim model pre krajinu: North Macedonia\nRobim model pre krajinu: Norway\nRobim model pre krajinu: Oman\nRobim model pre krajinu: Pakistan\nRobim model pre krajinu: Panama\nRobim model pre krajinu: Papua New Guinea\nRobim model pre krajinu: Paraguay\nRobim model pre krajinu: Peru\nRobim model pre krajinu: Philippines\nRobim model pre krajinu: Poland\nRobim model pre krajinu: Portugal\nRobim model pre krajinu: Qatar\nRobim model pre krajinu: Romania\nRobim model pre krajinu: Russia\nRobim model pre krajinu: Rwanda\nRobim model pre krajinu: Saint Kitts and Nevis\nRobim model pre krajinu: Saint Lucia\nRobim model pre krajinu: Saint Vincent and the Grenadines\nRobim model pre krajinu: San Marino\nRobim model pre krajinu: Sao Tome and Principe\n",
      "Robim model pre krajinu: Saudi Arabia\nRobim model pre krajinu: Senegal\nRobim model pre krajinu: Serbia\nRobim model pre krajinu: Seychelles\nRobim model pre krajinu: Sierra Leone\nRobim model pre krajinu: Singapore\nRobim model pre krajinu: Slovakia\nRobim model pre krajinu: Slovenia\nRobim model pre krajinu: Somalia\nRobim model pre krajinu: South Africa\nRobim model pre krajinu: South Sudan\nRobim model pre krajinu: Spain\nRobim model pre krajinu: Sri Lanka\nRobim model pre krajinu: Sudan\nRobim model pre krajinu: Suriname\nRobim model pre krajinu: Sweden\nRobim model pre krajinu: Switzerland\nRobim model pre krajinu: Syria\nRobim model pre krajinu: Taiwan*\nRobim model pre krajinu: Tanzania\nRobim model pre krajinu: Thailand\nRobim model pre krajinu: Timor-Leste\nRobim model pre krajinu: Togo\nRobim model pre krajinu: Trinidad and Tobago\nRobim model pre krajinu: Tunisia\nRobim model pre krajinu: Turkey\nRobim model pre krajinu: US\n",
      "Robim model pre krajinu: Uganda\nRobim model pre krajinu: Ukraine\nRobim model pre krajinu: United Arab Emirates\nRobim model pre krajinu: United Kingdom\nRobim model pre krajinu: Uruguay\nRobim model pre krajinu: Uzbekistan\nRobim model pre krajinu: Venezuela\nRobim model pre krajinu: Vietnam\nRobim model pre krajinu: West Bank and Gaza\nRobim model pre krajinu: Western Sahara\nRobim model pre krajinu: Zambia\nRobim model pre krajinu: Zimbabwe\n"
     ],
     "output_type": "stream"
    }
   ]
  },
  {
   "cell_type": "markdown",
   "source": [
    "# Predikcia úmrtnosti"
   ],
   "metadata": {
    "collapsed": false
   }
  },
  {
   "cell_type": "code",
   "execution_count": 133,
   "outputs": [
    {
     "name": "stdout",
     "text": [
      "Robim model pre krajinu: Afghanistan\nRobim model pre krajinu: Albania\nRobim model pre krajinu: Algeria\nRobim model pre krajinu: Andorra\nRobim model pre krajinu: Angola\nRobim model pre krajinu: Antigua and Barbuda\nRobim model pre krajinu: Argentina\nRobim model pre krajinu: Armenia\nRobim model pre krajinu: Australia\nRobim model pre krajinu: Austria\nRobim model pre krajinu: Azerbaijan\nRobim model pre krajinu: Bahamas\nRobim model pre krajinu: Bahrain\nRobim model pre krajinu: Bangladesh\nRobim model pre krajinu: Barbados\nRobim model pre krajinu: Belarus\nRobim model pre krajinu: Belgium\nRobim model pre krajinu: Belize\nRobim model pre krajinu: Benin\nRobim model pre krajinu: Bhutan\nRobim model pre krajinu: Bolivia\nRobim model pre krajinu: Bosnia and Herzegovina\nRobim model pre krajinu: Botswana\nRobim model pre krajinu: Brazil\nRobim model pre krajinu: Brunei\nRobim model pre krajinu: Bulgaria\nRobim model pre krajinu: Burkina Faso\nRobim model pre krajinu: Burma\nRobim model pre krajinu: Burundi\nRobim model pre krajinu: Cabo Verde\nRobim model pre krajinu: Cambodia\nRobim model pre krajinu: Cameroon\nRobim model pre krajinu: Canada",
      "\nRobim model pre krajinu: Central African Republic\nRobim model pre krajinu: Chad\nRobim model pre krajinu: Chile\nRobim model pre krajinu: China\nRobim model pre krajinu: Colombia\nRobim model pre krajinu: Congo (Brazzaville)\nRobim model pre krajinu: Congo (Kinshasa)\n",
      "Robim model pre krajinu: Costa Rica\nRobim model pre krajinu: Cote d'Ivoire\nRobim model pre krajinu: Croatia\nRobim model pre krajinu: Cuba\nRobim model pre krajinu: Cyprus\nRobim model pre krajinu: Czechia\nRobim model pre krajinu: Denmark\nRobim model pre krajinu: Diamond Princess\nRobim model pre krajinu: Djibouti\nRobim model pre krajinu: Dominica\nRobim model pre krajinu: Dominican Republic\nRobim model pre krajinu: Ecuador\nRobim model pre krajinu: Egypt\nRobim model pre krajinu: El Salvador\nRobim model pre krajinu: Equatorial Guinea\nRobim model pre krajinu: Eritrea\nRobim model pre krajinu: Estonia\nRobim model pre krajinu: Eswatini\nRobim model pre krajinu: Ethiopia\nRobim model pre krajinu: Fiji\nRobim model pre krajinu: Finland\nRobim model pre krajinu: France\nRobim model pre krajinu: Gabon\nRobim model pre krajinu: Gambia\nRobim model pre krajinu: Georgia\nRobim model pre krajinu: Germany\nRobim model pre krajinu: Ghana\nRobim model pre krajinu: Greece\nRobim model pre krajinu: Grenada\nRobim model pre krajinu: Guatemala\nRobim model pre krajinu: Guinea\nRobim model pre krajinu: Guinea-Bissau\nRobim model pre krajinu: Guyana\nRobim model pre krajinu: Haiti\nRobim model pre krajinu: Holy See\nRobim model pre krajinu: Honduras\nRobim model pre krajinu: Hungary\nRobim model pre krajinu: Iceland\nRobim model pre krajinu: India\n",
      "Robim model pre krajinu: Indonesia\nRobim model pre krajinu: Iran\nRobim model pre krajinu: Iraq\nRobim model pre krajinu: Ireland\nRobim model pre krajinu: Israel\nRobim model pre krajinu: Italy\nRobim model pre krajinu: Jamaica\nRobim model pre krajinu: Japan\nRobim model pre krajinu: Jordan\nRobim model pre krajinu: Kazakhstan\nRobim model pre krajinu: Kenya\nRobim model pre krajinu: Korea, South\nRobim model pre krajinu: Kosovo\nRobim model pre krajinu: Kuwait\nRobim model pre krajinu: Kyrgyzstan\nRobim model pre krajinu: Laos\nRobim model pre krajinu: Latvia\nRobim model pre krajinu: Lebanon\nRobim model pre krajinu: Liberia\nRobim model pre krajinu: Libya\nRobim model pre krajinu: Liechtenstein\nRobim model pre krajinu: Lithuania\nRobim model pre krajinu: Luxembourg\nRobim model pre krajinu: MS Zaandam\nRobim model pre krajinu: Madagascar\nRobim model pre krajinu: Malawi\nRobim model pre krajinu: Malaysia\nRobim model pre krajinu: Maldives\nRobim model pre krajinu: Mali\nRobim model pre krajinu: Malta\nRobim model pre krajinu: Mauritania\nRobim model pre krajinu: Mauritius\nRobim model pre krajinu: Mexico",
      "\nRobim model pre krajinu: Moldova\nRobim model pre krajinu: Monaco\nRobim model pre krajinu: Mongolia\nRobim model pre krajinu: Montenegro\nRobim model pre krajinu: Morocco\nRobim model pre krajinu: Mozambique\nRobim model pre krajinu: Namibia\nRobim model pre krajinu: Nepal\nRobim model pre krajinu: Netherlands\nRobim model pre krajinu: New Zealand\nRobim model pre krajinu: Nicaragua\nRobim model pre krajinu: Niger\nRobim model pre krajinu: Nigeria\nRobim model pre krajinu: North Macedonia\nRobim model pre krajinu: Norway\nRobim model pre krajinu: Oman\nRobim model pre krajinu: Pakistan\nRobim model pre krajinu: Panama\nRobim model pre krajinu: Papua New Guinea\nRobim model pre krajinu: Paraguay\nRobim model pre krajinu: Peru\nRobim model pre krajinu: Philippines\nRobim model pre krajinu: Poland\nRobim model pre krajinu: Portugal\nRobim model pre krajinu: Qatar\nRobim model pre krajinu: Romania\nRobim model pre krajinu: Russia\nRobim model pre krajinu: Rwanda\nRobim model pre krajinu: Saint Kitts and Nevis\nRobim model pre krajinu: Saint Lucia\nRobim model pre krajinu: Saint Vincent and the Grenadines\nRobim model pre krajinu: San Marino\nRobim model pre krajinu: Sao Tome and Principe\nRobim model pre krajinu: Saudi Arabia\nRobim model pre krajinu: Senegal\nRobim model pre krajinu: Serbia\nRobim model pre krajinu: Seychelles\nRobim model pre krajinu: Sierra Leone",
      "\nRobim model pre krajinu: Singapore\nRobim model pre krajinu: Slovakia\nRobim model pre krajinu: Slovenia\nRobim model pre krajinu: Somalia\nRobim model pre krajinu: South Africa\nRobim model pre krajinu: South Sudan\nRobim model pre krajinu: Spain\nRobim model pre krajinu: Sri Lanka\nRobim model pre krajinu: Sudan\nRobim model pre krajinu: Suriname\nRobim model pre krajinu: Sweden\nRobim model pre krajinu: Switzerland\nRobim model pre krajinu: Syria\nRobim model pre krajinu: Taiwan*\nRobim model pre krajinu: Tanzania\nRobim model pre krajinu: Thailand\nRobim model pre krajinu: Timor-Leste\nRobim model pre krajinu: Togo\nRobim model pre krajinu: Trinidad and Tobago\nRobim model pre krajinu: Tunisia\nRobim model pre krajinu: Turkey\nRobim model pre krajinu: US\n",
      "Robim model pre krajinu: Uganda\nRobim model pre krajinu: Ukraine\nRobim model pre krajinu: United Arab Emirates\nRobim model pre krajinu: United Kingdom\nRobim model pre krajinu: Uruguay\nRobim model pre krajinu: Uzbekistan\nRobim model pre krajinu: Venezuela\nRobim model pre krajinu: Vietnam\nRobim model pre krajinu: West Bank and Gaza\nRobim model pre krajinu: Western Sahara\nRobim model pre krajinu: Zambia\nRobim model pre krajinu: Zimbabwe\n"
     ],
     "output_type": "stream"
    }
   ],
   "source": [
    "for country in df_train['Country_Region'].unique():\n",
    "    print('Robim model pre krajinu: {}'.format(country))\n",
    "    df_train_country = df_train[df_train['Country_Region'] == country]\n",
    "    df_test_country = df_test[df_test['Country_Region'] == country]\n",
    "    \n",
    "    if df_train_country['Province_State'].isna().unique().any():\n",
    "        x_train = np.array(range(len(df_train_country))).reshape((-1, 1))\n",
    "        y_train = df_train_country['Fatalities']\n",
    "        \n",
    "        model= Pipeline([('poly', PolynomialFeatures(degree=2)), ('linear', LinearRegression(fit_intercept=False))])\n",
    "        model.fit(x_train, y_train)\n",
    "        \n",
    "        x_test = np.array(range(len(df_test_country))).reshape((-1, 1))\n",
    "        prediction = model.predict(x_test)\n",
    "        \n",
    "        prediction[prediction < 0] = 0\n",
    "        \n",
    "        df_test.loc[df_test['Country_Region'] == country, 'Fatalities'] = prediction\n",
    "        \n",
    "    else:\n",
    "        for state in df_train_country['Province_State'].unique():\n",
    "            df_train_state = df_train_country[df_train_country['Province_State'] == state]\n",
    "            df_test_state = df_test_country[df_test_country['Province_State'] == state]\n",
    "            \n",
    "            \n",
    "            x_train = np.array(range(len(df_train_state))).reshape(-1, 1)\n",
    "            y_train = df_train_state['Fatalities']\n",
    "            \n",
    "            model= Pipeline([('poly', PolynomialFeatures(degree=2)), ('linear', LinearRegression(fit_intercept=False))])\n",
    "            model.fit(x_train, y_train)\n",
    "            \n",
    "            x_test = np.array(range(len(df_test_state))).reshape((-1, 1))\n",
    "            prediction = model.predict(x_test)\n",
    "            \n",
    "            prediction[prediction < 0] = 0\n",
    "            \n",
    "            df_test.loc[(df_test['Country_Region'] == country) & (df_test['Province_State'] == state), 'Fatalities'] = prediction"
   ],
   "metadata": {
    "collapsed": false,
    "pycharm": {
     "name": "#%%\n",
     "is_executing": false
    }
   }
  },
  {
   "cell_type": "markdown",
   "source": [
    "## Vloženie naučených dát do *submission.csv*"
   ],
   "metadata": {
    "collapsed": false,
    "pycharm": {
     "name": "#%% md\n"
    }
   }
  },
  {
   "cell_type": "code",
   "execution_count": 134,
   "outputs": [],
   "source": [
    "# len vlozim data do pripraveneho csv suboru\n",
    "df_submit = pd.read_csv('E:/Skola/PycharmProjects/nn_covid-19_predictions/data/models/c19-week-4/submission.csv')\n",
    "#df_submit['ConfirmedCases'] = df_test['ConfirmedCases'].astype('int')\n",
    "df_submit['Fatalities'] = df_test['Fatalities'].astype('int')\n",
    "df_submit.to_csv('E:/Skola/PycharmProjects/nn_covid-19_predictions/data/models/c19-week-4/submission.csv', index=False)"
   ],
   "metadata": {
    "collapsed": false,
    "pycharm": {
     "name": "#%%\n",
     "is_executing": false
    }
   }
  },
  {
   "cell_type": "code",
   "execution_count": 135,
   "outputs": [
    {
     "data": {
      "text/plain": "   ForecastId Province_State Country_Region       Date  ConfirmedCases  \\\n0           1            NaN    Afghanistan 2020-04-02      122.628527   \n1           2            NaN    Afghanistan 2020-04-03      109.377050   \n2           3            NaN    Afghanistan 2020-04-04       96.586719   \n3           4            NaN    Afghanistan 2020-04-05       84.257534   \n4           5            NaN    Afghanistan 2020-04-06       72.389493   \n\n   Fatalities  \n0    4.179846  \n1    3.738487  \n2    3.312040  \n3    2.900503  \n4    2.503877  ",
      "text/html": "<div>\n<style scoped>\n    .dataframe tbody tr th:only-of-type {\n        vertical-align: middle;\n    }\n\n    .dataframe tbody tr th {\n        vertical-align: top;\n    }\n\n    .dataframe thead th {\n        text-align: right;\n    }\n</style>\n<table border=\"1\" class=\"dataframe\">\n  <thead>\n    <tr style=\"text-align: right;\">\n      <th></th>\n      <th>ForecastId</th>\n      <th>Province_State</th>\n      <th>Country_Region</th>\n      <th>Date</th>\n      <th>ConfirmedCases</th>\n      <th>Fatalities</th>\n    </tr>\n  </thead>\n  <tbody>\n    <tr>\n      <th>0</th>\n      <td>1</td>\n      <td>NaN</td>\n      <td>Afghanistan</td>\n      <td>2020-04-02</td>\n      <td>122.628527</td>\n      <td>4.179846</td>\n    </tr>\n    <tr>\n      <th>1</th>\n      <td>2</td>\n      <td>NaN</td>\n      <td>Afghanistan</td>\n      <td>2020-04-03</td>\n      <td>109.377050</td>\n      <td>3.738487</td>\n    </tr>\n    <tr>\n      <th>2</th>\n      <td>3</td>\n      <td>NaN</td>\n      <td>Afghanistan</td>\n      <td>2020-04-04</td>\n      <td>96.586719</td>\n      <td>3.312040</td>\n    </tr>\n    <tr>\n      <th>3</th>\n      <td>4</td>\n      <td>NaN</td>\n      <td>Afghanistan</td>\n      <td>2020-04-05</td>\n      <td>84.257534</td>\n      <td>2.900503</td>\n    </tr>\n    <tr>\n      <th>4</th>\n      <td>5</td>\n      <td>NaN</td>\n      <td>Afghanistan</td>\n      <td>2020-04-06</td>\n      <td>72.389493</td>\n      <td>2.503877</td>\n    </tr>\n  </tbody>\n</table>\n</div>"
     },
     "metadata": {},
     "output_type": "execute_result",
     "execution_count": 135
    }
   ],
   "source": [
    "df_test.head()"
   ],
   "metadata": {
    "collapsed": false,
    "pycharm": {
     "name": "#%%\n",
     "is_executing": false
    }
   }
  },
  {
   "cell_type": "code",
   "execution_count": 136,
   "outputs": [
    {
     "name": "stdout",
     "text": [
      "<class 'pandas.core.frame.DataFrame'>\nRangeIndex: 27231 entries, 0 to 27230\nData columns (total 6 columns):\n #   Column          Non-Null Count  Dtype         \n---  ------          --------------  -----         \n 0   Id              27231 non-null  int64         \n 1   Province_State  11571 non-null  object        \n 2   Country_Region  27231 non-null  object        \n 3   Date            27231 non-null  datetime64[ns]\n 4   ConfirmedCases  27231 non-null  float64       \n 5   Fatalities      27231 non-null  float64       \ndtypes: datetime64[ns](1), float64(2), int64(1), object(2)\nmemory usage: 1.2+ MB\n"
     ],
     "output_type": "stream"
    }
   ],
   "source": [
    "df_train.info()"
   ],
   "metadata": {
    "collapsed": false,
    "pycharm": {
     "name": "#%%\n",
     "is_executing": false
    }
   }
  },
  {
   "cell_type": "code",
   "execution_count": null,
   "outputs": [],
   "source": [
    "\n"
   ],
   "metadata": {
    "collapsed": false,
    "pycharm": {
     "name": "#%%\n"
    }
   }
  }
 ],
 "metadata": {
  "kernelspec": {
   "display_name": "Python 3",
   "language": "python",
   "name": "python3"
  },
  "language_info": {
   "codemirror_mode": {
    "name": "ipython",
    "version": 2
   },
   "file_extension": ".py",
   "mimetype": "text/x-python",
   "name": "python",
   "nbconvert_exporter": "python",
   "pygments_lexer": "ipython2",
   "version": "2.7.6"
  },
  "pycharm": {
   "stem_cell": {
    "cell_type": "raw",
    "source": [],
    "metadata": {
     "collapsed": false
    }
   }
  }
 },
 "nbformat": 4,
 "nbformat_minor": 0
}