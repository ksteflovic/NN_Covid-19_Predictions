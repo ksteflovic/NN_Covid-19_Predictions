{
 "cells": [
  {
   "cell_type": "code",
   "execution_count": 903,
   "metadata": {
    "collapsed": true,
    "pycharm": {
     "is_executing": false
    }
   },
   "outputs": [],
   "source": [
    "# import zakladnych kniznic\n",
    "import numpy as np\n",
    "import pandas as pd\n",
    "\n",
    "import operator\n",
    "import matplotlib\n",
    "import matplotlib.pyplot as plt\n",
    "%matplotlib inline\n",
    "\n",
    "from sklearn.linear_model import LinearRegression\n",
    "from sklearn.preprocessing import PolynomialFeatures\n",
    "from sklearn.pipeline import Pipeline"
   ]
  },
  {
   "cell_type": "code",
   "execution_count": 904,
   "outputs": [],
   "source": [
    "# nacitanie suborov\n",
    "df_train = pd.read_csv(\"E:/Skola/PycharmProjects/nn_covid-19_predictions/data/models/c19-week-4/train.csv\", parse_dates=['Date'])\n",
    "df_test = pd.read_csv(\"E:/Skola/PycharmProjects/nn_covid-19_predictions/data/models/c19-week-4/test.csv\", parse_dates=['Date'])"
   ],
   "metadata": {
    "collapsed": false,
    "pycharm": {
     "name": "#%%\n",
     "is_executing": false
    }
   }
  },
  {
   "cell_type": "code",
   "execution_count": 905,
   "outputs": [
    {
     "name": "stdout",
     "text": [
      "<class 'pandas.core.frame.DataFrame'>\nRangeIndex: 27231 entries, 0 to 27230\nData columns (total 6 columns):\n #   Column          Non-Null Count  Dtype         \n---  ------          --------------  -----         \n 0   Id              27231 non-null  int64         \n 1   Province_State  11571 non-null  object        \n 2   Country_Region  27231 non-null  object        \n 3   Date            27231 non-null  datetime64[ns]\n 4   ConfirmedCases  27231 non-null  float64       \n 5   Fatalities      27231 non-null  float64       \ndtypes: datetime64[ns](1), float64(2), int64(1), object(2)\nmemory usage: 1.2+ MB\n<class 'pandas.core.frame.DataFrame'>\nRangeIndex: 13459 entries, 0 to 13458\nData columns (total 4 columns):\n #   Column          Non-Null Count  Dtype         \n---  ------          --------------  -----         \n 0   ForecastId      13459 non-null  int64         \n 1   Province_State  5719 non-null   object        \n 2   Country_Region  13459 non-null  object        \n 3   Date            13459 non-null  datetime64[ns]\ndtypes: datetime64[ns](1), int64(1), object(2)\nmemory usage: 420.7+ KB\n"
     ],
     "output_type": "stream"
    }
   ],
   "source": [
    "# vypis hlaviciek a opisov datasetov\n",
    "df_train.head()\n",
    "df_train.describe()\n",
    "df_train.info()\n",
    "\n",
    "df_test.head()\n",
    "df_train.describe()\n",
    "df_test.info()"
   ],
   "metadata": {
    "collapsed": false,
    "pycharm": {
     "name": "#%%\n",
     "is_executing": false
    }
   }
  },
  {
   "cell_type": "code",
   "execution_count": 906,
   "outputs": [],
   "source": [
    "# teraz berieme policko Date ako String, preto ho preformatujem na Datetime format\n",
    "df_train['Date'] = pd.to_datetime(df_train['Date'], format='%Y-%m-%d')\n",
    "df_test['Date'] = pd.to_datetime(df_test['Date'], format='%Y-%m-%d')\n",
    "\n",
    "# a teraz ho uz vieme citat ako datum"
   ],
   "metadata": {
    "collapsed": false,
    "pycharm": {
     "name": "#%%\n",
     "is_executing": false
    }
   }
  },
  {
   "cell_type": "code",
   "execution_count": 907,
   "outputs": [
    {
     "name": "stdout",
     "text": [
      "Najstarší dátum z trénovacej množiny: 2020-01-22 00:00:00\nNajnovší dátum z trénovacej množiny: 2020-04-17 00:00:00\n"
     ],
     "output_type": "stream"
    }
   ],
   "source": [
    "# vypis najstarsieho datumu a najnovsieho datumu z trenovacej mnoziny\n",
    "train_date_min = df_train['Date'].min()\n",
    "train_date_max = df_train['Date'].max()\n",
    "print('Najstarší dátum z trénovacej množiny: {}'.format(train_date_min))\n",
    "print('Najnovší dátum z trénovacej množiny: {}'.format(train_date_max))"
   ],
   "metadata": {
    "collapsed": false,
    "pycharm": {
     "name": "#%%\n",
     "is_executing": false
    }
   }
  },
  {
   "cell_type": "code",
   "execution_count": 908,
   "outputs": [
    {
     "name": "stdout",
     "text": [
      "Najstarší dátum z testovacej množiny: 2020-04-02 00:00:00\nNajnovší dátum z testovacej množiny: 2020-05-14 00:00:00\n"
     ],
     "output_type": "stream"
    }
   ],
   "source": [
    "# to iste pre testovaciu mnozinu\n",
    "test_date_min = df_test['Date'].min()\n",
    "test_date_max = df_test['Date'].max()\n",
    "print('Najstarší dátum z testovacej množiny: {}'.format(test_date_min))\n",
    "print('Najnovší dátum z testovacej množiny: {}'.format(test_date_max))"
   ],
   "metadata": {
    "collapsed": false,
    "pycharm": {
     "name": "#%%\n",
     "is_executing": false
    }
   }
  },
  {
   "cell_type": "markdown",
   "source": [
    "# Predikcia nových nakazení"
   ],
   "metadata": {
    "collapsed": false,
    "pycharm": {
     "name": "#%% md\n"
    }
   }
  },
  {
   "cell_type": "code",
   "execution_count": 909,
   "outputs": [],
   "source": [
    "df_train.head()\n",
    "x_train = df_train[[]]"
   ],
   "metadata": {
    "collapsed": false,
    "pycharm": {
     "name": "#%%\n",
     "is_executing": false
    }
   }
  },
  {
   "cell_type": "code",
   "source": [
    "# Pre predikciu novych pripadov vyuzijem Linearnu regresiu\n",
    "# Pridala som import sklearn\n",
    "for country in df_train['Country_Region'].unique():\n",
    "    degree = 5\n",
    "    # print('Robim model pre krajinu: {}'.format(country))\n",
    "    df_train_country = df_train[df_train['Country_Region'] == country]\n",
    "    df_test_country = df_test[df_test['Country_Region'] == country]\n",
    "    \n",
    "    # zaujima ma, ci ma krajina provinciu, ak ano -> vetva else\n",
    "    if df_train_country['Province_State'].isna().unique().any():\n",
    "        # indexujem krajiny v csv subore - od a do\n",
    "        x_train = np.array(range(len(df_train_country))).reshape((-1, 1))\n",
    "        #print(x_train)\n",
    "        y_train = df_train_country['ConfirmedCases']\n",
    "        # print(y_train)\n",
    "        \n",
    "        # ucenie siete\n",
    "        model = Pipeline([('poly', PolynomialFeatures(degree=degree, include_bias=True)), ('linear', LinearRegression(fit_intercept=False))])\n",
    "        model.fit(x_train, y_train)\n",
    "        \n",
    "        # zacnem indexovat dni od 0\n",
    "        x_test = np.array(range(len(df_test_country))).reshape((-1, 1))\n",
    "        prediction = model.predict(x_test)\n",
    "        \n",
    "        # negativne pripady nahradim nulou\n",
    "        prediction[prediction < 0] = 0\n",
    "        \n",
    "        # Vramci ConfirmedCases pridam sa novy stlpec v dataframe df_test kam vlozim predikciu k danej krajine\n",
    "        df_test.loc[df_test['Country_Region'] == country, 'ConfirmedCases'] = prediction\n",
    "       \n",
    "        # print(df_test['ConfirmedCases'].astype('int'))\n",
    "        \n",
    "        if(country == \"Finland\"):\n",
    "             # Visualising the Polynomial Regression results\n",
    "             \n",
    "            #print(x_train)\n",
    "            Y = np.array([y_train])\n",
    "            Yr = np.flip(Y, axis=1)\n",
    "          \n",
    "            plt.plot(x_train[:,0], Yr[0,::-1])\n",
    "        \n",
    "            plt.plot(x_test+87, prediction)\n",
    "            plt.legend(['ConfirmedCases', 'Polynomial Regression Predictions'])\n",
    "            plt.title('Polynomial Regression Prediction', size=20)\n",
    "            plt.show()\n",
    "            \n",
    "    else:\n",
    "        for state in df_train_country['Province_State'].unique():\n",
    "            df_train_state = df_train_country[df_train_country['Province_State'] == state]\n",
    "            df_test_state = df_test_country[df_test_country['Province_State'] == state]\n",
    "            \n",
    "            x_train = np.array(range(len(df_train_state))).reshape(-1, 1)\n",
    "            y_train = df_train_state['ConfirmedCases']\n",
    "            \n",
    "            model= Pipeline([('poly', PolynomialFeatures(degree=degree)), ('linear', LinearRegression(fit_intercept=False))])\n",
    "            model.fit(x_train, y_train)\n",
    "            \n",
    "            x_test = np.array(range(len(df_test_state))).reshape((-1, 1))\n",
    "            prediction = model.predict(x_test)\n",
    "            \n",
    "            prediction[prediction < 0] = 0\n",
    "            \n",
    "            # Vramci ConfirmedCases pridam sa novy stlpec v dataframe df_test kam vlozim predikciu k danej krajine\n",
    "            df_test.loc[(df_test['Country_Region'] == country) & (df_test['Province_State'] == state), 'ConfirmedCases'] = prediction"
   ],
   "metadata": {
    "collapsed": false,
    "pycharm": {
     "name": "#%%\n",
     "is_executing": false
    }
   },
   "execution_count": 910,
   "outputs": [
    {
     "data": {
      "text/plain": "<Figure size 432x288 with 1 Axes>",
      "image/png": "[encoded data removed]"
     },
     "metadata": {
      "needs_background": "light"
     },
     "output_type": "display_data"
    }
   ]
  },
  {
   "cell_type": "markdown",
   "source": [
    "## Vloženie naučených dát do *submission.csv*"
   ],
   "metadata": {
    "collapsed": false,
    "pycharm": {
     "name": "#%% md\n"
    }
   }
  },
  {
   "cell_type": "code",
   "execution_count": 911,
   "outputs": [],
   "source": [
    "# len vlozim data do pripraveneho csv suboru\n",
    "df_submit = pd.read_csv('E:/Skola/PycharmProjects/nn_covid-19_predictions/data/models/c19-week-4/submission.csv')\n",
    "df_submit['ConfirmedCases'] = df_test['ConfirmedCases'].astype('int')\n",
    "df_submit.to_csv('E:/Skola/PycharmProjects/nn_covid-19_predictions/data/models/c19-week-4/submission.csv', index=False)"
   ],
   "metadata": {
    "collapsed": false,
    "pycharm": {
     "name": "#%%\n",
     "is_executing": false
    }
   }
  },
  {
   "cell_type": "code",
   "execution_count": 912,
   "outputs": [
    {
     "data": {
      "text/plain": "   ForecastId Province_State Country_Region       Date  ConfirmedCases\n0           1            NaN    Afghanistan 2020-04-02        8.708437\n1           2            NaN    Afghanistan 2020-04-03        5.138682\n2           3            NaN    Afghanistan 2020-04-04        2.216493\n3           4            NaN    Afghanistan 2020-04-05        0.000000\n4           5            NaN    Afghanistan 2020-04-06        0.000000",
      "text/html": "<div>\n<style scoped>\n    .dataframe tbody tr th:only-of-type {\n        vertical-align: middle;\n    }\n\n    .dataframe tbody tr th {\n        vertical-align: top;\n    }\n\n    .dataframe thead th {\n        text-align: right;\n    }\n</style>\n<table border=\"1\" class=\"dataframe\">\n  <thead>\n    <tr style=\"text-align: right;\">\n      <th></th>\n      <th>ForecastId</th>\n      <th>Province_State</th>\n      <th>Country_Region</th>\n      <th>Date</th>\n      <th>ConfirmedCases</th>\n    </tr>\n  </thead>\n  <tbody>\n    <tr>\n      <th>0</th>\n      <td>1</td>\n      <td>NaN</td>\n      <td>Afghanistan</td>\n      <td>2020-04-02</td>\n      <td>8.708437</td>\n    </tr>\n    <tr>\n      <th>1</th>\n      <td>2</td>\n      <td>NaN</td>\n      <td>Afghanistan</td>\n      <td>2020-04-03</td>\n      <td>5.138682</td>\n    </tr>\n    <tr>\n      <th>2</th>\n      <td>3</td>\n      <td>NaN</td>\n      <td>Afghanistan</td>\n      <td>2020-04-04</td>\n      <td>2.216493</td>\n    </tr>\n    <tr>\n      <th>3</th>\n      <td>4</td>\n      <td>NaN</td>\n      <td>Afghanistan</td>\n      <td>2020-04-05</td>\n      <td>0.000000</td>\n    </tr>\n    <tr>\n      <th>4</th>\n      <td>5</td>\n      <td>NaN</td>\n      <td>Afghanistan</td>\n      <td>2020-04-06</td>\n      <td>0.000000</td>\n    </tr>\n  </tbody>\n</table>\n</div>"
     },
     "metadata": {},
     "output_type": "execute_result",
     "execution_count": 912
    }
   ],
   "source": [
    "df_test.head()"
   ],
   "metadata": {
    "collapsed": false,
    "pycharm": {
     "name": "#%%\n",
     "is_executing": false
    }
   }
  },
  {
   "cell_type": "code",
   "execution_count": 913,
   "outputs": [
    {
     "name": "stdout",
     "text": [
      "<class 'pandas.core.frame.DataFrame'>\nRangeIndex: 27231 entries, 0 to 27230\nData columns (total 6 columns):\n #   Column          Non-Null Count  Dtype         \n---  ------          --------------  -----         \n 0   Id              27231 non-null  int64         \n 1   Province_State  11571 non-null  object        \n 2   Country_Region  27231 non-null  object        \n 3   Date            27231 non-null  datetime64[ns]\n 4   ConfirmedCases  27231 non-null  float64       \n 5   Fatalities      27231 non-null  float64       \ndtypes: datetime64[ns](1), float64(2), int64(1), object(2)\nmemory usage: 1.2+ MB\n"
     ],
     "output_type": "stream"
    }
   ],
   "source": [
    "df_train.info()"
   ],
   "metadata": {
    "collapsed": false,
    "pycharm": {
     "name": "#%%\n",
     "is_executing": false
    }
   }
  }
 ],
 "metadata": {
  "kernelspec": {
   "display_name": "Python 3",
   "language": "python",
   "name": "python3"
  },
  "language_info": {
   "codemirror_mode": {
    "name": "ipython",
    "version": 2
   },
   "file_extension": ".py",
   "mimetype": "text/x-python",
   "name": "python",
   "nbconvert_exporter": "python",
   "pygments_lexer": "ipython2",
   "version": "2.7.6"
  },
  "pycharm": {
   "stem_cell": {
    "cell_type": "raw",
    "source": [],
    "metadata": {
     "collapsed": false
    }
   }
  }
 },
 "nbformat": 4,
 "nbformat_minor": 0
}