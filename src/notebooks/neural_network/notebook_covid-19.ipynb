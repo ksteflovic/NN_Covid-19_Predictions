{
 "cells": [
  {
   "cell_type": "code",
   "execution_count": 1,
   "metadata": {
    "pycharm": {
     "is_executing": false
    }
   },
   "outputs": [],
   "source": [
    "# instalacia kniznice pre pracu s krajinami - iso3, provincie a staty, kontinent\n",
    "# !pip install --upgrade pip"
   ]
  },
  {
   "cell_type": "code",
   "execution_count": 2,
   "metadata": {},
   "outputs": [],
   "source": [
    "# !pip install pycountry_convert"
   ]
  },
  {
   "cell_type": "code",
   "execution_count": 3,
   "metadata": {},
   "outputs": [],
   "source": [
    "# !pip install xgboost"
   ]
  },
  {
   "cell_type": "code",
   "execution_count": 4,
   "metadata": {},
   "outputs": [],
   "source": [
    "# !pip install --upgrade scikit-learn"
   ]
  },
  {
   "cell_type": "code",
   "execution_count": 5,
   "metadata": {},
   "outputs": [],
   "source": [
    "# !pip install --upgrade scipy"
   ]
  },
  {
   "cell_type": "code",
   "execution_count": 24,
   "metadata": {},
   "outputs": [],
   "source": [
    "# import zakladnych kniznic\n",
    "import numpy as np\n",
    "import pandas as pd\n",
    "\n",
    "import operator\n",
    "import matplotlib\n",
    "import matplotlib.pyplot as plt\n",
    "%matplotlib inline\n",
    "\n",
    "from sklearn.linear_model import LinearRegression\n",
    "from sklearn.preprocessing import PolynomialFeatures, StandardScaler\n",
    "from sklearn.pipeline import Pipeline\n",
    "from sklearn import metrics\n",
    "from sklearn.model_selection import train_test_split \n",
    "\n",
    "import warnings\n",
    "warnings.filterwarnings('ignore')"
   ]
  },
  {
   "cell_type": "code",
   "execution_count": 7,
   "metadata": {
    "pycharm": {
     "is_executing": false,
     "name": "#%%\n"
    }
   },
   "outputs": [],
   "source": [
    "# nacitanie suborov\n",
    "df_train = pd.read_csv(\"train.csv\", parse_dates=['Date'])\n",
    "df_test = pd.read_csv(\"test.csv\", parse_dates=['Date'])"
   ]
  },
  {
   "cell_type": "code",
   "execution_count": 8,
   "metadata": {
    "pycharm": {
     "is_executing": false,
     "name": "#%%\n"
    }
   },
   "outputs": [
    {
     "data": {
      "text/html": [
       "<div>\n",
       "<table class=\"dataframe\">\n",
       "  <thead>\n",
       "    <tr style=\"text-align: right;\">\n",
       "      <th></th>\n",
       "      <th>Id</th>\n",
       "      <th>Province_State</th>\n",
       "      <th>Country_Region</th>\n",
       "      <th>Date</th>\n",
       "      <th>ConfirmedCases</th>\n",
       "      <th>Fatalities</th>\n",
       "    </tr>\n",
       "  </thead>\n",
       "  <tbody>\n",
       "    <tr>\n",
       "      <th>0</th>\n",
       "      <td>1</td>\n",
       "      <td>NaN</td>\n",
       "      <td>Afghanistan</td>\n",
       "      <td>2020-01-22</td>\n",
       "      <td>0.0</td>\n",
       "      <td>0.0</td>\n",
       "    </tr>\n",
       "    <tr>\n",
       "      <th>1</th>\n",
       "      <td>2</td>\n",
       "      <td>NaN</td>\n",
       "      <td>Afghanistan</td>\n",
       "      <td>2020-01-23</td>\n",
       "      <td>0.0</td>\n",
       "      <td>0.0</td>\n",
       "    </tr>\n",
       "    <tr>\n",
       "      <th>2</th>\n",
       "      <td>3</td>\n",
       "      <td>NaN</td>\n",
       "      <td>Afghanistan</td>\n",
       "      <td>2020-01-24</td>\n",
       "      <td>0.0</td>\n",
       "      <td>0.0</td>\n",
       "    </tr>\n",
       "    <tr>\n",
       "      <th>3</th>\n",
       "      <td>4</td>\n",
       "      <td>NaN</td>\n",
       "      <td>Afghanistan</td>\n",
       "      <td>2020-01-25</td>\n",
       "      <td>0.0</td>\n",
       "      <td>0.0</td>\n",
       "    </tr>\n",
       "    <tr>\n",
       "      <th>4</th>\n",
       "      <td>5</td>\n",
       "      <td>NaN</td>\n",
       "      <td>Afghanistan</td>\n",
       "      <td>2020-01-26</td>\n",
       "      <td>0.0</td>\n",
       "      <td>0.0</td>\n",
       "    </tr>\n",
       "  </tbody>\n",
       "</table>\n",
       "</div>"
      ],
      "text/plain": [
       "   Id Province_State Country_Region       Date  ConfirmedCases  Fatalities\n",
       "0   1            NaN    Afghanistan 2020-01-22             0.0         0.0\n",
       "1   2            NaN    Afghanistan 2020-01-23             0.0         0.0\n",
       "2   3            NaN    Afghanistan 2020-01-24             0.0         0.0\n",
       "3   4            NaN    Afghanistan 2020-01-25             0.0         0.0\n",
       "4   5            NaN    Afghanistan 2020-01-26             0.0         0.0"
      ]
     },
     "execution_count": 8,
     "metadata": {},
     "output_type": "execute_result"
    }
   ],
   "source": [
    "# vypis hlaviciek a opisov datasetu\n",
    "df_train.head()"
   ]
  },
  {
   "cell_type": "code",
   "execution_count": 9,
   "metadata": {},
   "outputs": [
    {
     "data": {
      "text/html": [
       "<div>\n",
       "<table class=\"dataframe\">\n",
       "  <thead>\n",
       "    <tr style=\"text-align: right;\">\n",
       "      <th></th>\n",
       "      <th>Id</th>\n",
       "      <th>ConfirmedCases</th>\n",
       "      <th>Fatalities</th>\n",
       "    </tr>\n",
       "  </thead>\n",
       "  <tbody>\n",
       "    <tr>\n",
       "      <th>count</th>\n",
       "      <td>27231.000000</td>\n",
       "      <td>27231.000000</td>\n",
       "      <td>27231.000000</td>\n",
       "    </tr>\n",
       "    <tr>\n",
       "      <th>mean</th>\n",
       "      <td>17828.000000</td>\n",
       "      <td>1372.808050</td>\n",
       "      <td>75.991444</td>\n",
       "    </tr>\n",
       "    <tr>\n",
       "      <th>std</th>\n",
       "      <td>10300.673333</td>\n",
       "      <td>9488.242361</td>\n",
       "      <td>808.719059</td>\n",
       "    </tr>\n",
       "    <tr>\n",
       "      <th>min</th>\n",
       "      <td>1.000000</td>\n",
       "      <td>0.000000</td>\n",
       "      <td>0.000000</td>\n",
       "    </tr>\n",
       "    <tr>\n",
       "      <th>25%</th>\n",
       "      <td>8914.500000</td>\n",
       "      <td>0.000000</td>\n",
       "      <td>0.000000</td>\n",
       "    </tr>\n",
       "    <tr>\n",
       "      <th>50%</th>\n",
       "      <td>17828.000000</td>\n",
       "      <td>2.000000</td>\n",
       "      <td>0.000000</td>\n",
       "    </tr>\n",
       "    <tr>\n",
       "      <th>75%</th>\n",
       "      <td>26741.500000</td>\n",
       "      <td>138.000000</td>\n",
       "      <td>1.000000</td>\n",
       "    </tr>\n",
       "    <tr>\n",
       "      <th>max</th>\n",
       "      <td>35655.000000</td>\n",
       "      <td>230597.000000</td>\n",
       "      <td>22745.000000</td>\n",
       "    </tr>\n",
       "  </tbody>\n",
       "</table>\n",
       "</div>"
      ],
      "text/plain": [
       "                 Id  ConfirmedCases    Fatalities\n",
       "count  27231.000000    27231.000000  27231.000000\n",
       "mean   17828.000000     1372.808050     75.991444\n",
       "std    10300.673333     9488.242361    808.719059\n",
       "min        1.000000        0.000000      0.000000\n",
       "25%     8914.500000        0.000000      0.000000\n",
       "50%    17828.000000        2.000000      0.000000\n",
       "75%    26741.500000      138.000000      1.000000\n",
       "max    35655.000000   230597.000000  22745.000000"
      ]
     },
     "execution_count": 9,
     "metadata": {},
     "output_type": "execute_result"
    }
   ],
   "source": [
    "df_train.describe()"
   ]
  },
  {
   "cell_type": "code",
   "execution_count": 10,
   "metadata": {},
   "outputs": [
    {
     "name": "stdout",
     "output_type": "stream",
     "text": [
      "<class 'pandas.core.frame.DataFrame'>\n",
      "RangeIndex: 27231 entries, 0 to 27230\n",
      "Data columns (total 6 columns):\n",
      "Id                27231 non-null int64\n",
      "Province_State    11571 non-null object\n",
      "Country_Region    27231 non-null object\n",
      "Date              27231 non-null datetime64[ns]\n",
      "ConfirmedCases    27231 non-null float64\n",
      "Fatalities        27231 non-null float64\n",
      "dtypes: datetime64[ns](1), float64(2), int64(1), object(2)\n",
      "memory usage: 1.2+ MB\n"
     ]
    }
   ],
   "source": [
    "df_train.info()"
   ]
  },
  {
   "cell_type": "code",
   "execution_count": 11,
   "metadata": {},
   "outputs": [
    {
     "data": {
      "text/html": [
       "<div>\n",
       "<table class=\"dataframe\">\n",
       "  <thead>\n",
       "    <tr style=\"text-align: right;\">\n",
       "      <th></th>\n",
       "      <th>ForecastId</th>\n",
       "      <th>Province_State</th>\n",
       "      <th>Country_Region</th>\n",
       "      <th>Date</th>\n",
       "    </tr>\n",
       "  </thead>\n",
       "  <tbody>\n",
       "    <tr>\n",
       "      <th>0</th>\n",
       "      <td>1</td>\n",
       "      <td>NaN</td>\n",
       "      <td>Afghanistan</td>\n",
       "      <td>2020-04-02</td>\n",
       "    </tr>\n",
       "    <tr>\n",
       "      <th>1</th>\n",
       "      <td>2</td>\n",
       "      <td>NaN</td>\n",
       "      <td>Afghanistan</td>\n",
       "      <td>2020-04-03</td>\n",
       "    </tr>\n",
       "    <tr>\n",
       "      <th>2</th>\n",
       "      <td>3</td>\n",
       "      <td>NaN</td>\n",
       "      <td>Afghanistan</td>\n",
       "      <td>2020-04-04</td>\n",
       "    </tr>\n",
       "    <tr>\n",
       "      <th>3</th>\n",
       "      <td>4</td>\n",
       "      <td>NaN</td>\n",
       "      <td>Afghanistan</td>\n",
       "      <td>2020-04-05</td>\n",
       "    </tr>\n",
       "    <tr>\n",
       "      <th>4</th>\n",
       "      <td>5</td>\n",
       "      <td>NaN</td>\n",
       "      <td>Afghanistan</td>\n",
       "      <td>2020-04-06</td>\n",
       "    </tr>\n",
       "  </tbody>\n",
       "</table>\n",
       "</div>"
      ],
      "text/plain": [
       "   ForecastId Province_State Country_Region       Date\n",
       "0           1            NaN    Afghanistan 2020-04-02\n",
       "1           2            NaN    Afghanistan 2020-04-03\n",
       "2           3            NaN    Afghanistan 2020-04-04\n",
       "3           4            NaN    Afghanistan 2020-04-05\n",
       "4           5            NaN    Afghanistan 2020-04-06"
      ]
     },
     "execution_count": 11,
     "metadata": {},
     "output_type": "execute_result"
    }
   ],
   "source": [
    "df_test.head()"
   ]
  },
  {
   "cell_type": "code",
   "execution_count": 12,
   "metadata": {},
   "outputs": [
    {
     "data": {
      "text/html": [
       "<div>\n",
       "<table class=\"dataframe\">\n",
       "  <thead>\n",
       "    <tr style=\"text-align: right;\">\n",
       "      <th></th>\n",
       "      <th>Id</th>\n",
       "      <th>ConfirmedCases</th>\n",
       "      <th>Fatalities</th>\n",
       "    </tr>\n",
       "  </thead>\n",
       "  <tbody>\n",
       "    <tr>\n",
       "      <th>count</th>\n",
       "      <td>27231.000000</td>\n",
       "      <td>27231.000000</td>\n",
       "      <td>27231.000000</td>\n",
       "    </tr>\n",
       "    <tr>\n",
       "      <th>mean</th>\n",
       "      <td>17828.000000</td>\n",
       "      <td>1372.808050</td>\n",
       "      <td>75.991444</td>\n",
       "    </tr>\n",
       "    <tr>\n",
       "      <th>std</th>\n",
       "      <td>10300.673333</td>\n",
       "      <td>9488.242361</td>\n",
       "      <td>808.719059</td>\n",
       "    </tr>\n",
       "    <tr>\n",
       "      <th>min</th>\n",
       "      <td>1.000000</td>\n",
       "      <td>0.000000</td>\n",
       "      <td>0.000000</td>\n",
       "    </tr>\n",
       "    <tr>\n",
       "      <th>25%</th>\n",
       "      <td>8914.500000</td>\n",
       "      <td>0.000000</td>\n",
       "      <td>0.000000</td>\n",
       "    </tr>\n",
       "    <tr>\n",
       "      <th>50%</th>\n",
       "      <td>17828.000000</td>\n",
       "      <td>2.000000</td>\n",
       "      <td>0.000000</td>\n",
       "    </tr>\n",
       "    <tr>\n",
       "      <th>75%</th>\n",
       "      <td>26741.500000</td>\n",
       "      <td>138.000000</td>\n",
       "      <td>1.000000</td>\n",
       "    </tr>\n",
       "    <tr>\n",
       "      <th>max</th>\n",
       "      <td>35655.000000</td>\n",
       "      <td>230597.000000</td>\n",
       "      <td>22745.000000</td>\n",
       "    </tr>\n",
       "  </tbody>\n",
       "</table>\n",
       "</div>"
      ],
      "text/plain": [
       "                 Id  ConfirmedCases    Fatalities\n",
       "count  27231.000000    27231.000000  27231.000000\n",
       "mean   17828.000000     1372.808050     75.991444\n",
       "std    10300.673333     9488.242361    808.719059\n",
       "min        1.000000        0.000000      0.000000\n",
       "25%     8914.500000        0.000000      0.000000\n",
       "50%    17828.000000        2.000000      0.000000\n",
       "75%    26741.500000      138.000000      1.000000\n",
       "max    35655.000000   230597.000000  22745.000000"
      ]
     },
     "execution_count": 12,
     "metadata": {},
     "output_type": "execute_result"
    }
   ],
   "source": [
    "df_train.describe()"
   ]
  },
  {
   "cell_type": "code",
   "execution_count": 13,
   "metadata": {},
   "outputs": [
    {
     "name": "stdout",
     "output_type": "stream",
     "text": [
      "<class 'pandas.core.frame.DataFrame'>\n",
      "RangeIndex: 27231 entries, 0 to 27230\n",
      "Data columns (total 6 columns):\n",
      "Id                27231 non-null int64\n",
      "Province_State    11571 non-null object\n",
      "Country_Region    27231 non-null object\n",
      "Date              27231 non-null datetime64[ns]\n",
      "ConfirmedCases    27231 non-null float64\n",
      "Fatalities        27231 non-null float64\n",
      "dtypes: datetime64[ns](1), float64(2), int64(1), object(2)\n",
      "memory usage: 1.2+ MB\n"
     ]
    }
   ],
   "source": [
    "df_train.info()"
   ]
  },
  {
   "cell_type": "code",
   "execution_count": 14,
   "metadata": {
    "pycharm": {
     "is_executing": false,
     "name": "#%%\n"
    }
   },
   "outputs": [],
   "source": [
    "# teraz berieme policko Date ako String, preto ho preformatujem na Datetime format\n",
    "df_train['Date'] = pd.to_datetime(df_train['Date'], format='%Y-%m-%d')\n",
    "df_test['Date'] = pd.to_datetime(df_test['Date'], format='%Y-%m-%d')\n",
    "\n",
    "# a teraz ho uz vieme citat ako datum"
   ]
  },
  {
   "cell_type": "code",
   "execution_count": 15,
   "metadata": {
    "pycharm": {
     "is_executing": false,
     "name": "#%%\n"
    }
   },
   "outputs": [
    {
     "name": "stdout",
     "output_type": "stream",
     "text": [
      "Najstarší dátum z trénovacej množiny: 2020-01-22 00:00:00\n",
      "Najnovší dátum z trénovacej množiny: 2020-04-17 00:00:00\n"
     ]
    }
   ],
   "source": [
    "# vypis najstarsieho datumu a najnovsieho datumu z trenovacej mnoziny\n",
    "train_date_min = df_train['Date'].min()\n",
    "train_date_max = df_train['Date'].max()\n",
    "print('Najstarší dátum z trénovacej množiny: {}'.format(train_date_min))\n",
    "print('Najnovší dátum z trénovacej množiny: {}'.format(train_date_max))"
   ]
  },
  {
   "cell_type": "code",
   "execution_count": 16,
   "metadata": {
    "pycharm": {
     "is_executing": false,
     "name": "#%%\n"
    }
   },
   "outputs": [
    {
     "name": "stdout",
     "output_type": "stream",
     "text": [
      "Najstarší dátum z testovacej množiny: 2020-04-02 00:00:00\n",
      "Najnovší dátum z testovacej množiny: 2020-05-14 00:00:00\n"
     ]
    }
   ],
   "source": [
    "# to iste pre testovaciu mnozinu\n",
    "test_date_min = df_test['Date'].min()\n",
    "test_date_max = df_test['Date'].max()\n",
    "print('Najstarší dátum z testovacej množiny: {}'.format(test_date_min))\n",
    "print('Najnovší dátum z testovacej množiny: {}'.format(test_date_max))"
   ]
  },
  {
   "cell_type": "markdown",
   "metadata": {
    "pycharm": {
     "name": "#%% md\n"
    }
   },
   "source": [
    "# Predikcia nových nakazení"
   ]
  },
  {
   "cell_type": "code",
   "execution_count": 17,
   "metadata": {
    "pycharm": {
     "is_executing": false,
     "name": "#%%\n"
    }
   },
   "outputs": [],
   "source": [
    "df_train.head()\n",
    "x_train = df_train[[]]"
   ]
  },
  {
   "cell_type": "code",
   "execution_count": 46,
   "metadata": {
    "pycharm": {
     "is_executing": false,
     "name": "#%%\n"
    }
   },
   "outputs": [
    {
     "data": {
      "image/png": "[encoded data removed]",
      "text/plain": [
       "<matplotlib.figure.Figure at 0x7f40913d1320>"
      ]
     },
     "metadata": {},
     "output_type": "display_data"
    }
   ],
   "source": [
    "# Pre predikciu novych pripadov vyuzijem Linearnu regresiu\n",
    "# Pridala som import sklearn\n",
    "for country in df_train['Country_Region'].unique():\n",
    "    # print('Robim model pre krajinu: {}'.format(country))\n",
    "    df_train_country = df_train[df_train['Country_Region'] == country]\n",
    "    df_test_country = df_test[df_test['Country_Region'] == country]\n",
    "    \n",
    "    # zaujima ma, ci ma krajina provinciu, ak ano -> vetva else\n",
    "    if df_train_country['Province_State'].isnull().unique().any():\n",
    "        # indexujem krajiny v csv subore - od a do\n",
    "        x_train = np.array(range(len(df_train_country))).reshape((-1, 1))\n",
    "        #print(x_train)\n",
    "        y_train = df_train_country['ConfirmedCases']\n",
    "        # print(y_train)\n",
    "        \n",
    "        # ucenie siete\n",
    "        model = Pipeline([('poly', PolynomialFeatures(degree=2, include_bias=True)), ('linear', LinearRegression(fit_intercept=False))])\n",
    "        \n",
    "        Y = np.array([y_train])\n",
    "        Yr = np.flip(Y, axis=1)\n",
    "        Yr = Yr[0,::-1]\n",
    "        Yrs = Yr.reshape(-1,1)\n",
    "        x_train_scale = StandardScaler().fit_transform(x_train)\n",
    "        y_train_scale = StandardScaler().fit_transform(Yrs)\n",
    "        \n",
    "        model.fit(x_train_scale, y_train_scale)\n",
    "        \n",
    "        # zacnem indexovat dni od 0\n",
    "      \n",
    "        x_test = np.array(range(len(df_test_country))).reshape((-1, 1))\n",
    "        prediction = model.predict(x_test)\n",
    "        \n",
    "        # negativne pripady nahradim nulou\n",
    "        prediction[prediction < 0] = 0\n",
    "        \n",
    "        # Vramci ConfirmedCases pridam sa novy stlpec v dataframe df_test kam vlozim predikciu k danej krajine\n",
    "        df_test.loc[df_test['Country_Region'] == country, 'ConfirmedCases'] = prediction\n",
    "       \n",
    "        # print(df_test['ConfirmedCases'].astype('int'))\n",
    "        \n",
    "        if(country == \"Hungary\"):\n",
    "             # Visualising the Polynomial Regression results\n",
    "             \n",
    "            #print(x_train)\n",
    "            # Y = np.array([y_train])\n",
    "            # Yr = np.flip(Y, axis=1)\n",
    "         \n",
    "            plt.plot(x_train[:70,0], Yrs[:70,0])\n",
    "            plt.xlim(0,10)\n",
    "        \n",
    "            #print(prediction)\n",
    "            plt.plot(x_test+45, prediction)\n",
    "            plt.xlim(0,88)\n",
    "            plt.legend(['Potvrdené prípady', 'Predpokladaný počet nových prípadov nakazenia'])\n",
    "            plt.title(country+': graf predikcie nakazení', size=20)\n",
    "            \n",
    "            plt.show()\n",
    "        \n",
    "    else:\n",
    "        for state in df_train_country['Province_State'].unique():\n",
    "            df_train_state = df_train_country[df_train_country['Province_State'] == state]\n",
    "            df_test_state = df_test_country[df_test_country['Province_State'] == state]\n",
    "            \n",
    "            x_train = np.array(range(len(df_train_state))).reshape(-1, 1)\n",
    "            y_train = df_train_state['ConfirmedCases']\n",
    "            \n",
    "            \n",
    "            model = Pipeline([('poly', PolynomialFeatures(degree=2, include_bias=True)), ('linear', LinearRegression(fit_intercept=False))])\n",
    "        \n",
    "            Y = np.array([y_train])\n",
    "            Yr = np.flip(Y, axis=1)\n",
    "            Yr = Yr[0,::-1]\n",
    "            Yrs = Yr.reshape(-1,1)\n",
    "            x_train_scale = StandardScaler().fit_transform(x_train)\n",
    "            y_train_scale = StandardScaler().fit_transform(Yrs)\n",
    "        \n",
    "            model.fit(x_train_scale, y_train_scale)\n",
    "            \n",
    "            x_test = np.array(range(len(df_test_state))).reshape((-1, 1))\n",
    "            prediction = model.predict(x_test)\n",
    "            \n",
    "            prediction[prediction < 0] = 0\n",
    "            \n",
    "            # Vramci ConfirmedCases pridam sa novy stlpec v dataframe df_test kam vlozim predikciu k danej krajine\n",
    "            df_test.loc[(df_test['Country_Region'] == country) & (df_test['Province_State'] == state), 'ConfirmedCases'] = prediction"
   ]
  },
  {
   "cell_type": "markdown",
   "metadata": {
    "pycharm": {
     "name": "#%% md\n"
    }
   },
   "source": [
    "## Vloženie naučených dát do *submission.csv*"
   ]
  },
  {
   "cell_type": "code",
   "execution_count": 19,
   "metadata": {
    "pycharm": {
     "is_executing": false,
     "name": "#%%\n"
    }
   },
   "outputs": [],
   "source": [
    "# len vlozim data do pripraveneho csv suboru\n",
    "df_submit = pd.read_csv('submission.csv')\n",
    "df_submit['ConfirmedCases'] = df_test['ConfirmedCases'].astype('int')\n",
    "df_submit.to_csv('submission.csv', index=False)"
   ]
  },
  {
   "cell_type": "code",
   "execution_count": 20,
   "metadata": {
    "pycharm": {
     "is_executing": false,
     "name": "#%%\n"
    }
   },
   "outputs": [],
   "source": [
    "# df_test.head()"
   ]
  },
  {
   "cell_type": "code",
   "execution_count": 21,
   "metadata": {
    "pycharm": {
     "is_executing": false,
     "name": "#%%\n"
    }
   },
   "outputs": [],
   "source": [
    "# df_train.info()"
   ]
  },
  {
   "cell_type": "markdown",
   "metadata": {},
   "source": [
    "## Tabuľka predikcie nových nakazení od 1.5.2020\n",
    "Slúži na porovnanie s aktuálnymi údajmi"
   ]
  },
  {
   "cell_type": "code",
   "execution_count": 48,
   "metadata": {},
   "outputs": [
    {
     "name": "stdout",
     "output_type": "stream",
     "text": [
      "      ForecastId Province_State Country_Region        Date  ConfirmedCases\n",
      "9360        9361            NaN       Slovakia  01.05.2020             541\n",
      "9361        9362            NaN       Slovakia  02.05.2020             578\n",
      "9362        9363            NaN       Slovakia  03.05.2020             617\n",
      "9363        9364            NaN       Slovakia  04.05.2020             656\n",
      "9364        9365            NaN       Slovakia  05.05.2020             697\n",
      "9365        9366            NaN       Slovakia  06.05.2020             739\n",
      "9366        9367            NaN       Slovakia  07.05.2020             783\n",
      "9367        9368            NaN       Slovakia  08.05.2020             827\n",
      "9368        9369            NaN       Slovakia  09.05.2020             873\n",
      "9369        9370            NaN       Slovakia  10.05.2020             920\n",
      "9370        9371            NaN       Slovakia  11.05.2020             969\n",
      "9371        9372            NaN       Slovakia  12.05.2020            1018\n",
      "9372        9373            NaN       Slovakia  13.05.2020            1069\n",
      "9373        9374            NaN       Slovakia  14.05.2020            1121\n"
     ]
    }
   ],
   "source": [
    "slovakia = df_test[df_test['Country_Region'] == 'Slovakia']\n",
    "slovakia = slovakia.astype({\"ConfirmedCases\": int})\n",
    "\n",
    "slovakia['Date'] = pd.to_datetime(slovakia.Date)\n",
    "slovakia['Date'] = slovakia['Date'].dt.strftime('%d.%m.%Y')\n",
    "\n",
    "print(slovakia[29:])"
   ]
  },
  {
   "cell_type": "code",
   "execution_count": null,
   "metadata": {},
   "outputs": [],
   "source": []
  }
 ],
 "metadata": {
  "kernelspec": {
   "display_name": "Python 3",
   "language": "python",
   "name": "python3"
  },
  "language_info": {
   "codemirror_mode": {
    "name": "ipython",
    "version": 3
   },
   "file_extension": ".py",
   "mimetype": "text/x-python",
   "name": "python",
   "nbconvert_exporter": "python",
   "pygments_lexer": "ipython3",
   "version": "3.5.4"
  },
  "pycharm": {
   "stem_cell": {
    "cell_type": "raw",
    "metadata": {
     "collapsed": false
    },
    "source": []
   }
  }
 },
 "nbformat": 4,
 "nbformat_minor": 1
}
