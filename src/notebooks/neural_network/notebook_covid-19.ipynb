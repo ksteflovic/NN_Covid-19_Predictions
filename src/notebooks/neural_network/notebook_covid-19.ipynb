{
  "cells": [
    {
      "metadata": {
        "pycharm": {
          "is_executing": false
        },
        "trusted": true
      },
      "cell_type": "code",
      "source": "# instalacia kniznice pre pracu s krajinami - iso3, provincie a staty, kontinent\n# !pip install --upgrade pip",
      "execution_count": 1,
      "outputs": []
    },
    {
      "metadata": {
        "trusted": true
      },
      "cell_type": "code",
      "source": "# !pip install pycountry_convert",
      "execution_count": 2,
      "outputs": []
    },
    {
      "metadata": {
        "trusted": true
      },
      "cell_type": "code",
      "source": "# !pip install xgboost",
      "execution_count": 3,
      "outputs": []
    },
    {
      "metadata": {
        "trusted": true
      },
      "cell_type": "code",
      "source": "# !pip install --upgrade scikit-learn",
      "execution_count": 4,
      "outputs": []
    },
    {
      "metadata": {
        "trusted": true
      },
      "cell_type": "code",
      "source": "# !pip install --upgrade scipy",
      "execution_count": 5,
      "outputs": []
    },
    {
      "metadata": {
        "trusted": true
      },
      "cell_type": "code",
      "source": "# import zakladnych kniznic\nimport numpy as np\nimport pandas as pd\n\nimport operator\nimport matplotlib\nimport matplotlib.pyplot as plt\n%matplotlib inline\n\nfrom sklearn.linear_model import LinearRegression\nfrom sklearn.preprocessing import PolynomialFeatures, StandardScaler\nfrom sklearn.pipeline import Pipeline\nfrom sklearn import metrics\nfrom sklearn.model_selection import train_test_split \n\nimport warnings\nwarnings.filterwarnings('ignore')",
      "execution_count": 24,
      "outputs": []
    },
    {
      "metadata": {
        "pycharm": {
          "name": "#%%\n",
          "is_executing": false
        },
        "trusted": true
      },
      "cell_type": "code",
      "source": "# nacitanie suborov\ndf_train = pd.read_csv(\"train.csv\", parse_dates=['Date'])\ndf_test = pd.read_csv(\"test.csv\", parse_dates=['Date'])",
      "execution_count": 7,
      "outputs": []
    },
    {
      "metadata": {
        "pycharm": {
          "name": "#%%\n",
          "is_executing": false
        },
        "trusted": true
      },
      "cell_type": "code",
      "source": "# vypis hlaviciek a opisov datasetu\ndf_train.head()",
      "execution_count": 8,
      "outputs": [
        {
          "output_type": "execute_result",
          "execution_count": 8,
          "data": {
            "text/html": "<div>\n<table border=\"1\" class=\"dataframe\">\n  <thead>\n    <tr style=\"text-align: right;\">\n      <th></th>\n      <th>Id</th>\n      <th>Province_State</th>\n      <th>Country_Region</th>\n      <th>Date</th>\n      <th>ConfirmedCases</th>\n      <th>Fatalities</th>\n    </tr>\n  </thead>\n  <tbody>\n    <tr>\n      <th>0</th>\n      <td>1</td>\n      <td>NaN</td>\n      <td>Afghanistan</td>\n      <td>2020-01-22</td>\n      <td>0.0</td>\n      <td>0.0</td>\n    </tr>\n    <tr>\n      <th>1</th>\n      <td>2</td>\n      <td>NaN</td>\n      <td>Afghanistan</td>\n      <td>2020-01-23</td>\n      <td>0.0</td>\n      <td>0.0</td>\n    </tr>\n    <tr>\n      <th>2</th>\n      <td>3</td>\n      <td>NaN</td>\n      <td>Afghanistan</td>\n      <td>2020-01-24</td>\n      <td>0.0</td>\n      <td>0.0</td>\n    </tr>\n    <tr>\n      <th>3</th>\n      <td>4</td>\n      <td>NaN</td>\n      <td>Afghanistan</td>\n      <td>2020-01-25</td>\n      <td>0.0</td>\n      <td>0.0</td>\n    </tr>\n    <tr>\n      <th>4</th>\n      <td>5</td>\n      <td>NaN</td>\n      <td>Afghanistan</td>\n      <td>2020-01-26</td>\n      <td>0.0</td>\n      <td>0.0</td>\n    </tr>\n  </tbody>\n</table>\n</div>",
            "text/plain": "   Id Province_State Country_Region       Date  ConfirmedCases  Fatalities\n0   1            NaN    Afghanistan 2020-01-22             0.0         0.0\n1   2            NaN    Afghanistan 2020-01-23             0.0         0.0\n2   3            NaN    Afghanistan 2020-01-24             0.0         0.0\n3   4            NaN    Afghanistan 2020-01-25             0.0         0.0\n4   5            NaN    Afghanistan 2020-01-26             0.0         0.0"
          },
          "metadata": {}
        }
      ]
    },
    {
      "metadata": {
        "trusted": true
      },
      "cell_type": "code",
      "source": "df_train.describe()",
      "execution_count": 9,
      "outputs": [
        {
          "output_type": "execute_result",
          "execution_count": 9,
          "data": {
            "text/html": "<div>\n<table border=\"1\" class=\"dataframe\">\n  <thead>\n    <tr style=\"text-align: right;\">\n      <th></th>\n      <th>Id</th>\n      <th>ConfirmedCases</th>\n      <th>Fatalities</th>\n    </tr>\n  </thead>\n  <tbody>\n    <tr>\n      <th>count</th>\n      <td>27231.000000</td>\n      <td>27231.000000</td>\n      <td>27231.000000</td>\n    </tr>\n    <tr>\n      <th>mean</th>\n      <td>17828.000000</td>\n      <td>1372.808050</td>\n      <td>75.991444</td>\n    </tr>\n    <tr>\n      <th>std</th>\n      <td>10300.673333</td>\n      <td>9488.242361</td>\n      <td>808.719059</td>\n    </tr>\n    <tr>\n      <th>min</th>\n      <td>1.000000</td>\n      <td>0.000000</td>\n      <td>0.000000</td>\n    </tr>\n    <tr>\n      <th>25%</th>\n      <td>8914.500000</td>\n      <td>0.000000</td>\n      <td>0.000000</td>\n    </tr>\n    <tr>\n      <th>50%</th>\n      <td>17828.000000</td>\n      <td>2.000000</td>\n      <td>0.000000</td>\n    </tr>\n    <tr>\n      <th>75%</th>\n      <td>26741.500000</td>\n      <td>138.000000</td>\n      <td>1.000000</td>\n    </tr>\n    <tr>\n      <th>max</th>\n      <td>35655.000000</td>\n      <td>230597.000000</td>\n      <td>22745.000000</td>\n    </tr>\n  </tbody>\n</table>\n</div>",
            "text/plain": "                 Id  ConfirmedCases    Fatalities\ncount  27231.000000    27231.000000  27231.000000\nmean   17828.000000     1372.808050     75.991444\nstd    10300.673333     9488.242361    808.719059\nmin        1.000000        0.000000      0.000000\n25%     8914.500000        0.000000      0.000000\n50%    17828.000000        2.000000      0.000000\n75%    26741.500000      138.000000      1.000000\nmax    35655.000000   230597.000000  22745.000000"
          },
          "metadata": {}
        }
      ]
    },
    {
      "metadata": {
        "trusted": true
      },
      "cell_type": "code",
      "source": "df_train.info()",
      "execution_count": 10,
      "outputs": [
        {
          "output_type": "stream",
          "text": "<class 'pandas.core.frame.DataFrame'>\nRangeIndex: 27231 entries, 0 to 27230\nData columns (total 6 columns):\nId                27231 non-null int64\nProvince_State    11571 non-null object\nCountry_Region    27231 non-null object\nDate              27231 non-null datetime64[ns]\nConfirmedCases    27231 non-null float64\nFatalities        27231 non-null float64\ndtypes: datetime64[ns](1), float64(2), int64(1), object(2)\nmemory usage: 1.2+ MB\n",
          "name": "stdout"
        }
      ]
    },
    {
      "metadata": {
        "trusted": true
      },
      "cell_type": "code",
      "source": "df_test.head()",
      "execution_count": 11,
      "outputs": [
        {
          "output_type": "execute_result",
          "execution_count": 11,
          "data": {
            "text/html": "<div>\n<table border=\"1\" class=\"dataframe\">\n  <thead>\n    <tr style=\"text-align: right;\">\n      <th></th>\n      <th>ForecastId</th>\n      <th>Province_State</th>\n      <th>Country_Region</th>\n      <th>Date</th>\n    </tr>\n  </thead>\n  <tbody>\n    <tr>\n      <th>0</th>\n      <td>1</td>\n      <td>NaN</td>\n      <td>Afghanistan</td>\n      <td>2020-04-02</td>\n    </tr>\n    <tr>\n      <th>1</th>\n      <td>2</td>\n      <td>NaN</td>\n      <td>Afghanistan</td>\n      <td>2020-04-03</td>\n    </tr>\n    <tr>\n      <th>2</th>\n      <td>3</td>\n      <td>NaN</td>\n      <td>Afghanistan</td>\n      <td>2020-04-04</td>\n    </tr>\n    <tr>\n      <th>3</th>\n      <td>4</td>\n      <td>NaN</td>\n      <td>Afghanistan</td>\n      <td>2020-04-05</td>\n    </tr>\n    <tr>\n      <th>4</th>\n      <td>5</td>\n      <td>NaN</td>\n      <td>Afghanistan</td>\n      <td>2020-04-06</td>\n    </tr>\n  </tbody>\n</table>\n</div>",
            "text/plain": "   ForecastId Province_State Country_Region       Date\n0           1            NaN    Afghanistan 2020-04-02\n1           2            NaN    Afghanistan 2020-04-03\n2           3            NaN    Afghanistan 2020-04-04\n3           4            NaN    Afghanistan 2020-04-05\n4           5            NaN    Afghanistan 2020-04-06"
          },
          "metadata": {}
        }
      ]
    },
    {
      "metadata": {
        "trusted": true
      },
      "cell_type": "code",
      "source": "df_train.describe()",
      "execution_count": 12,
      "outputs": [
        {
          "output_type": "execute_result",
          "execution_count": 12,
          "data": {
            "text/html": "<div>\n<table border=\"1\" class=\"dataframe\">\n  <thead>\n    <tr style=\"text-align: right;\">\n      <th></th>\n      <th>Id</th>\n      <th>ConfirmedCases</th>\n      <th>Fatalities</th>\n    </tr>\n  </thead>\n  <tbody>\n    <tr>\n      <th>count</th>\n      <td>27231.000000</td>\n      <td>27231.000000</td>\n      <td>27231.000000</td>\n    </tr>\n    <tr>\n      <th>mean</th>\n      <td>17828.000000</td>\n      <td>1372.808050</td>\n      <td>75.991444</td>\n    </tr>\n    <tr>\n      <th>std</th>\n      <td>10300.673333</td>\n      <td>9488.242361</td>\n      <td>808.719059</td>\n    </tr>\n    <tr>\n      <th>min</th>\n      <td>1.000000</td>\n      <td>0.000000</td>\n      <td>0.000000</td>\n    </tr>\n    <tr>\n      <th>25%</th>\n      <td>8914.500000</td>\n      <td>0.000000</td>\n      <td>0.000000</td>\n    </tr>\n    <tr>\n      <th>50%</th>\n      <td>17828.000000</td>\n      <td>2.000000</td>\n      <td>0.000000</td>\n    </tr>\n    <tr>\n      <th>75%</th>\n      <td>26741.500000</td>\n      <td>138.000000</td>\n      <td>1.000000</td>\n    </tr>\n    <tr>\n      <th>max</th>\n      <td>35655.000000</td>\n      <td>230597.000000</td>\n      <td>22745.000000</td>\n    </tr>\n  </tbody>\n</table>\n</div>",
            "text/plain": "                 Id  ConfirmedCases    Fatalities\ncount  27231.000000    27231.000000  27231.000000\nmean   17828.000000     1372.808050     75.991444\nstd    10300.673333     9488.242361    808.719059\nmin        1.000000        0.000000      0.000000\n25%     8914.500000        0.000000      0.000000\n50%    17828.000000        2.000000      0.000000\n75%    26741.500000      138.000000      1.000000\nmax    35655.000000   230597.000000  22745.000000"
          },
          "metadata": {}
        }
      ]
    },
    {
      "metadata": {
        "trusted": true
      },
      "cell_type": "code",
      "source": "df_train.info()",
      "execution_count": 13,
      "outputs": [
        {
          "output_type": "stream",
          "text": "<class 'pandas.core.frame.DataFrame'>\nRangeIndex: 27231 entries, 0 to 27230\nData columns (total 6 columns):\nId                27231 non-null int64\nProvince_State    11571 non-null object\nCountry_Region    27231 non-null object\nDate              27231 non-null datetime64[ns]\nConfirmedCases    27231 non-null float64\nFatalities        27231 non-null float64\ndtypes: datetime64[ns](1), float64(2), int64(1), object(2)\nmemory usage: 1.2+ MB\n",
          "name": "stdout"
        }
      ]
    },
    {
      "metadata": {
        "pycharm": {
          "name": "#%%\n",
          "is_executing": false
        },
        "trusted": true
      },
      "cell_type": "code",
      "source": "# teraz berieme policko Date ako String, preto ho preformatujem na Datetime format\ndf_train['Date'] = pd.to_datetime(df_train['Date'], format='%Y-%m-%d')\ndf_test['Date'] = pd.to_datetime(df_test['Date'], format='%Y-%m-%d')\n\n# a teraz ho uz vieme citat ako datum",
      "execution_count": 14,
      "outputs": []
    },
    {
      "metadata": {
        "pycharm": {
          "name": "#%%\n",
          "is_executing": false
        },
        "trusted": true
      },
      "cell_type": "code",
      "source": "# vypis najstarsieho datumu a najnovsieho datumu z trenovacej mnoziny\ntrain_date_min = df_train['Date'].min()\ntrain_date_max = df_train['Date'].max()\nprint('Najstarší dátum z trénovacej množiny: {}'.format(train_date_min))\nprint('Najnovší dátum z trénovacej množiny: {}'.format(train_date_max))",
      "execution_count": 15,
      "outputs": [
        {
          "output_type": "stream",
          "text": "Najstarší dátum z trénovacej množiny: 2020-01-22 00:00:00\nNajnovší dátum z trénovacej množiny: 2020-04-17 00:00:00\n",
          "name": "stdout"
        }
      ]
    },
    {
      "metadata": {
        "pycharm": {
          "name": "#%%\n",
          "is_executing": false
        },
        "trusted": true
      },
      "cell_type": "code",
      "source": "# to iste pre testovaciu mnozinu\ntest_date_min = df_test['Date'].min()\ntest_date_max = df_test['Date'].max()\nprint('Najstarší dátum z testovacej množiny: {}'.format(test_date_min))\nprint('Najnovší dátum z testovacej množiny: {}'.format(test_date_max))",
      "execution_count": 16,
      "outputs": [
        {
          "output_type": "stream",
          "text": "Najstarší dátum z testovacej množiny: 2020-04-02 00:00:00\nNajnovší dátum z testovacej množiny: 2020-05-14 00:00:00\n",
          "name": "stdout"
        }
      ]
    },
    {
      "metadata": {
        "pycharm": {
          "name": "#%% md\n"
        }
      },
      "cell_type": "markdown",
      "source": "# Predikcia nových nakazení"
    },
    {
      "metadata": {
        "pycharm": {
          "name": "#%%\n",
          "is_executing": false
        },
        "trusted": true
      },
      "cell_type": "code",
      "source": "df_train.head()\nx_train = df_train[[]]",
      "execution_count": 17,
      "outputs": []
    },
    {
      "metadata": {
        "pycharm": {
          "name": "#%%\n",
          "is_executing": false
        },
        "trusted": true
      },
      "cell_type": "code",
      "source": "# Pre predikciu novych pripadov vyuzijem Linearnu regresiu\n# Pridala som import sklearn\nfor country in df_train['Country_Region'].unique():\n    # print('Robim model pre krajinu: {}'.format(country))\n    df_train_country = df_train[df_train['Country_Region'] == country]\n    df_test_country = df_test[df_test['Country_Region'] == country]\n    \n    # zaujima ma, ci ma krajina provinciu, ak ano -> vetva else\n    if df_train_country['Province_State'].isnull().unique().any():\n        # indexujem krajiny v csv subore - od a do\n        x_train = np.array(range(len(df_train_country))).reshape((-1, 1))\n        #print(x_train)\n        y_train = df_train_country['ConfirmedCases']\n        # print(y_train)\n        \n        # ucenie siete\n        model = Pipeline([('poly', PolynomialFeatures(degree=2, include_bias=True)), ('linear', LinearRegression(fit_intercept=False))])\n        \n        Y = np.array([y_train])\n        Yr = np.flip(Y, axis=1)\n        Yr = Yr[0,::-1]\n        Yrs = Yr.reshape(-1,1)\n        x_train_scale = StandardScaler().fit_transform(x_train)\n        y_train_scale = StandardScaler().fit_transform(Yrs)\n        \n        model.fit(x_train_scale, y_train_scale)\n        \n        # zacnem indexovat dni od 0\n      \n        x_test = np.array(range(len(df_test_country))).reshape((-1, 1))\n        prediction = model.predict(x_test)\n        \n        # negativne pripady nahradim nulou\n        prediction[prediction < 0] = 0\n        \n        # Vramci ConfirmedCases pridam sa novy stlpec v dataframe df_test kam vlozim predikciu k danej krajine\n        df_test.loc[df_test['Country_Region'] == country, 'ConfirmedCases'] = prediction\n       \n        # print(df_test['ConfirmedCases'].astype('int'))\n        \n        if(country == \"Slovakia\"):\n             # Visualising the Polynomial Regression results\n             \n            #print(x_train)\n            # Y = np.array([y_train])\n            # Yr = np.flip(Y, axis=1)\n         \n            plt.plot(x_train[:70,0], Yrs[:70,0])\n            plt.xlim(0,10)\n        \n            #print(prediction)\n            plt.plot(x_test+45, prediction)\n            plt.xlim(0,88)\n            plt.legend(['Potvrdené prípady', 'Predpokladaný počet nových prípadov nakazenia'])\n            plt.title(country+': graf predikcie nakazení', size=20)\n            \n            plt.show()\n        \n    else:\n        for state in df_train_country['Province_State'].unique():\n            df_train_state = df_train_country[df_train_country['Province_State'] == state]\n            df_test_state = df_test_country[df_test_country['Province_State'] == state]\n            \n            x_train = np.array(range(len(df_train_state))).reshape(-1, 1)\n            y_train = df_train_state['ConfirmedCases']\n            \n            \n            model = Pipeline([('poly', PolynomialFeatures(degree=2, include_bias=True)), ('linear', LinearRegression(fit_intercept=False))])\n        \n            Y = np.array([y_train])\n            Yr = np.flip(Y, axis=1)\n            Yr = Yr[0,::-1]\n            Yrs = Yr.reshape(-1,1)\n            x_train_scale = StandardScaler().fit_transform(x_train)\n            y_train_scale = StandardScaler().fit_transform(Yrs)\n        \n            model.fit(x_train_scale, y_train_scale)\n            \n            x_test = np.array(range(len(df_test_state))).reshape((-1, 1))\n            prediction = model.predict(x_test)\n            \n            prediction[prediction < 0] = 0\n            \n            # Vramci ConfirmedCases pridam sa novy stlpec v dataframe df_test kam vlozim predikciu k danej krajine\n            df_test.loc[(df_test['Country_Region'] == country) & (df_test['Province_State'] == state), 'ConfirmedCases'] = prediction",
      "execution_count": 35,
      "outputs": [
        {
          "output_type": "display_data",
          "data": {
            "image/png": "[encoded data removed]",
            "text/plain": "<matplotlib.figure.Figure at 0x7f40913884e0>"
          },
          "metadata": {}
        }
      ]
    },
    {
      "metadata": {
        "pycharm": {
          "name": "#%% md\n"
        }
      },
      "cell_type": "markdown",
      "source": "## Vloženie naučených dát do *submission.csv*"
    },
    {
      "metadata": {
        "pycharm": {
          "name": "#%%\n",
          "is_executing": false
        },
        "trusted": true
      },
      "cell_type": "code",
      "source": "# len vlozim data do pripraveneho csv suboru\ndf_submit = pd.read_csv('submission.csv')\ndf_submit['ConfirmedCases'] = df_test['ConfirmedCases'].astype('int')\ndf_submit.to_csv('submission.csv', index=False)",
      "execution_count": 19,
      "outputs": []
    },
    {
      "metadata": {
        "pycharm": {
          "name": "#%%\n",
          "is_executing": false
        },
        "trusted": true
      },
      "cell_type": "code",
      "source": "# df_test.head()",
      "execution_count": 20,
      "outputs": []
    },
    {
      "metadata": {
        "pycharm": {
          "name": "#%%\n",
          "is_executing": false
        },
        "trusted": true
      },
      "cell_type": "code",
      "source": "# df_train.info()",
      "execution_count": 21,
      "outputs": []
    }
  ],
  "metadata": {
    "kernelspec": {
      "name": "python3",
      "display_name": "Python 3",
      "language": "python"
    },
    "language_info": {
      "mimetype": "text/x-python",
      "nbconvert_exporter": "python",
      "name": "python",
      "file_extension": ".py",
      "version": "3.5.4",
      "pygments_lexer": "ipython3",
      "codemirror_mode": {
        "version": 3,
        "name": "ipython"
      }
    },
    "pycharm": {
      "stem_cell": {
        "cell_type": "raw",
        "source": [],
        "metadata": {
          "collapsed": false
        }
      }
    }
  },
  "nbformat": 4,
  "nbformat_minor": 1
}