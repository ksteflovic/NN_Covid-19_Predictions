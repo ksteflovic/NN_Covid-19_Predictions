{
 "cells": [
  {
   "cell_type": "code",
   "execution_count": 5,
   "metadata": {
    "collapsed": true,
    "pycharm": {
     "is_executing": false
    }
   },
   "outputs": [
    {
     "traceback": [
      "\u001b[1;31m---------------------------------------------------------------------------\u001b[0m",
      "\u001b[1;31mXGBoostLibraryNotFound\u001b[0m                    Traceback (most recent call last)",
      "\u001b[1;32m<ipython-input-5-cf6fd729e1da>\u001b[0m in \u001b[0;36m<module>\u001b[1;34m\u001b[0m\n\u001b[0;32m     11\u001b[0m \u001b[1;32mimport\u001b[0m \u001b[0mwarnings\u001b[0m\u001b[1;33m\u001b[0m\u001b[1;33m\u001b[0m\u001b[0m\n\u001b[0;32m     12\u001b[0m \u001b[0mwarnings\u001b[0m\u001b[1;33m.\u001b[0m\u001b[0mfilterwarnings\u001b[0m\u001b[1;33m(\u001b[0m\u001b[1;34m'ignore'\u001b[0m\u001b[1;33m)\u001b[0m\u001b[1;33m\u001b[0m\u001b[1;33m\u001b[0m\u001b[0m\n\u001b[1;32m---> 13\u001b[1;33m \u001b[1;32mimport\u001b[0m \u001b[0mxgboost\u001b[0m \u001b[1;32mas\u001b[0m \u001b[0mxgb\u001b[0m\u001b[1;33m\u001b[0m\u001b[1;33m\u001b[0m\u001b[0m\n\u001b[0m\u001b[0;32m     14\u001b[0m \u001b[1;32mfrom\u001b[0m \u001b[0mxgboost\u001b[0m \u001b[1;32mimport\u001b[0m \u001b[0mXGBRegressor\u001b[0m\u001b[1;33m\u001b[0m\u001b[1;33m\u001b[0m\u001b[0m\n\u001b[0;32m     15\u001b[0m \u001b[1;32mfrom\u001b[0m \u001b[0mxgboost\u001b[0m \u001b[1;32mimport\u001b[0m \u001b[0mplot_importance\u001b[0m\u001b[1;33m,\u001b[0m \u001b[0mplot_tree\u001b[0m\u001b[1;33m\u001b[0m\u001b[1;33m\u001b[0m\u001b[0m\n",
      "\u001b[1;32m~\\AppData\\Roaming\\Python\\Python36\\site-packages\\xgboost\\__init__.py\u001b[0m in \u001b[0;36m<module>\u001b[1;34m\u001b[0m\n\u001b[0;32m      9\u001b[0m \u001b[1;32mimport\u001b[0m \u001b[0mwarnings\u001b[0m\u001b[1;33m\u001b[0m\u001b[1;33m\u001b[0m\u001b[0m\n\u001b[0;32m     10\u001b[0m \u001b[1;33m\u001b[0m\u001b[0m\n\u001b[1;32m---> 11\u001b[1;33m \u001b[1;32mfrom\u001b[0m \u001b[1;33m.\u001b[0m\u001b[0mcore\u001b[0m \u001b[1;32mimport\u001b[0m \u001b[0mDMatrix\u001b[0m\u001b[1;33m,\u001b[0m \u001b[0mBooster\u001b[0m\u001b[1;33m\u001b[0m\u001b[1;33m\u001b[0m\u001b[0m\n\u001b[0m\u001b[0;32m     12\u001b[0m \u001b[1;32mfrom\u001b[0m \u001b[1;33m.\u001b[0m\u001b[0mtraining\u001b[0m \u001b[1;32mimport\u001b[0m \u001b[0mtrain\u001b[0m\u001b[1;33m,\u001b[0m \u001b[0mcv\u001b[0m\u001b[1;33m\u001b[0m\u001b[1;33m\u001b[0m\u001b[0m\n\u001b[0;32m     13\u001b[0m \u001b[1;32mfrom\u001b[0m \u001b[1;33m.\u001b[0m \u001b[1;32mimport\u001b[0m \u001b[0mrabit\u001b[0m                   \u001b[1;31m# noqa\u001b[0m\u001b[1;33m\u001b[0m\u001b[1;33m\u001b[0m\u001b[0m\n",
      "\u001b[1;32m~\\AppData\\Roaming\\Python\\Python36\\site-packages\\xgboost\\core.py\u001b[0m in \u001b[0;36m<module>\u001b[1;34m\u001b[0m\n\u001b[0;32m    172\u001b[0m \u001b[1;33m\u001b[0m\u001b[0m\n\u001b[0;32m    173\u001b[0m \u001b[1;31m# load the XGBoost library globally\u001b[0m\u001b[1;33m\u001b[0m\u001b[1;33m\u001b[0m\u001b[1;33m\u001b[0m\u001b[0m\n\u001b[1;32m--> 174\u001b[1;33m \u001b[0m_LIB\u001b[0m \u001b[1;33m=\u001b[0m \u001b[0m_load_lib\u001b[0m\u001b[1;33m(\u001b[0m\u001b[1;33m)\u001b[0m\u001b[1;33m\u001b[0m\u001b[1;33m\u001b[0m\u001b[0m\n\u001b[0m\u001b[0;32m    175\u001b[0m \u001b[1;33m\u001b[0m\u001b[0m\n\u001b[0;32m    176\u001b[0m \u001b[1;33m\u001b[0m\u001b[0m\n",
      "\u001b[1;32m~\\AppData\\Roaming\\Python\\Python36\\site-packages\\xgboost\\core.py\u001b[0m in \u001b[0;36m_load_lib\u001b[1;34m()\u001b[0m\n\u001b[0;32m    132\u001b[0m \u001b[1;32mdef\u001b[0m \u001b[0m_load_lib\u001b[0m\u001b[1;33m(\u001b[0m\u001b[1;33m)\u001b[0m\u001b[1;33m:\u001b[0m\u001b[1;33m\u001b[0m\u001b[1;33m\u001b[0m\u001b[0m\n\u001b[0;32m    133\u001b[0m     \u001b[1;34m\"\"\"Load xgboost Library.\"\"\"\u001b[0m\u001b[1;33m\u001b[0m\u001b[1;33m\u001b[0m\u001b[0m\n\u001b[1;32m--> 134\u001b[1;33m     \u001b[0mlib_paths\u001b[0m \u001b[1;33m=\u001b[0m \u001b[0mfind_lib_path\u001b[0m\u001b[1;33m(\u001b[0m\u001b[1;33m)\u001b[0m\u001b[1;33m\u001b[0m\u001b[1;33m\u001b[0m\u001b[0m\n\u001b[0m\u001b[0;32m    135\u001b[0m     \u001b[1;32mif\u001b[0m \u001b[1;32mnot\u001b[0m \u001b[0mlib_paths\u001b[0m\u001b[1;33m:\u001b[0m\u001b[1;33m\u001b[0m\u001b[1;33m\u001b[0m\u001b[0m\n\u001b[0;32m    136\u001b[0m         \u001b[1;32mreturn\u001b[0m \u001b[1;32mNone\u001b[0m\u001b[1;33m\u001b[0m\u001b[1;33m\u001b[0m\u001b[0m\n",
      "\u001b[1;32m~\\AppData\\Roaming\\Python\\Python36\\site-packages\\xgboost\\libpath.py\u001b[0m in \u001b[0;36mfind_lib_path\u001b[1;34m()\u001b[0m\n\u001b[0;32m     48\u001b[0m             \u001b[1;34m'Cannot find XGBoost Library in the candidate path, '\u001b[0m \u001b[1;33m+\u001b[0m\u001b[1;33m\u001b[0m\u001b[1;33m\u001b[0m\u001b[0m\n\u001b[0;32m     49\u001b[0m             \u001b[1;34m'did you install compilers and run build.sh in root path?\\n'\u001b[0m\u001b[1;33m\u001b[0m\u001b[1;33m\u001b[0m\u001b[0m\n\u001b[1;32m---> 50\u001b[1;33m             'List of candidates:\\n' + ('\\n'.join(dll_path)))\n\u001b[0m\u001b[0;32m     51\u001b[0m     \u001b[1;32mreturn\u001b[0m \u001b[0mlib_path\u001b[0m\u001b[1;33m\u001b[0m\u001b[1;33m\u001b[0m\u001b[0m\n",
      "\u001b[1;31mXGBoostLibraryNotFound\u001b[0m: Cannot find XGBoost Library in the candidate path, did you install compilers and run build.sh in root path?\nList of candidates:\nC:\\Users\\stefi\\AppData\\Roaming\\Python\\Python36\\site-packages\\xgboost\\xgboost.dll\nC:\\Users\\stefi\\AppData\\Roaming\\Python\\Python36\\site-packages\\xgboost\\../../lib/xgboost.dll\nC:\\Users\\stefi\\AppData\\Roaming\\Python\\Python36\\site-packages\\xgboost\\./lib/xgboost.dll\nc:\\users\\stefi\\appdata\\local\\programs\\python\\python36\\xgboost\\xgboost.dll\nC:\\Users\\stefi\\AppData\\Roaming\\Python\\Python36\\site-packages\\xgboost\\../../windows/x64/Release/xgboost.dll\nC:\\Users\\stefi\\AppData\\Roaming\\Python\\Python36\\site-packages\\xgboost\\./windows/x64/Release/xgboost.dll"
     ],
     "ename": "XGBoostLibraryNotFound",
     "evalue": "Cannot find XGBoost Library in the candidate path, did you install compilers and run build.sh in root path?\nList of candidates:\nC:\\Users\\stefi\\AppData\\Roaming\\Python\\Python36\\site-packages\\xgboost\\xgboost.dll\nC:\\Users\\stefi\\AppData\\Roaming\\Python\\Python36\\site-packages\\xgboost\\../../lib/xgboost.dll\nC:\\Users\\stefi\\AppData\\Roaming\\Python\\Python36\\site-packages\\xgboost\\./lib/xgboost.dll\nc:\\users\\stefi\\appdata\\local\\programs\\python\\python36\\xgboost\\xgboost.dll\nC:\\Users\\stefi\\AppData\\Roaming\\Python\\Python36\\site-packages\\xgboost\\../../windows/x64/Release/xgboost.dll\nC:\\Users\\stefi\\AppData\\Roaming\\Python\\Python36\\site-packages\\xgboost\\./windows/x64/Release/xgboost.dll",
     "output_type": "error"
    }
   ],
   "source": [
    "# import zakladnych kniznic\n",
    "import numpy as np\n",
    "import pandas as pd\n",
    "import matplotlib\n",
    "import matplotlib.pyplot as plt\n",
    "%matplotlib inline\n",
    "from sklearn.linear_model import LinearRegression\n",
    "from sklearn.preprocessing import PolynomialFeatures\n",
    "from sklearn.pipeline import Pipeline\n",
    "\n",
    "import xgboost as xgb\n",
    "from xgboost import XGBRegressor\n",
    "from xgboost import plot_importance, plot_tree\n",
    "\n",
    "# import tried\n",
    "from src.python.country_utils import country_utils\n",
    "from src.python.preprocess import preprocess as pre\n",
    "%load country_utils.py"
   ]
  },
  {
   "cell_type": "code",
   "execution_count": null,
   "outputs": [],
   "source": [
    "# nacitanie suborov\n",
    "df_train = pd.read_csv(\"E:/Skola/PycharmProjects/nn_covid-19_predictions/data/models/c19-week-4/train.csv\", parse_dates=['Date'])\n",
    "df_test = pd.read_csv(\"E:/Skola/PycharmProjects/nn_covid-19_predictions/data/models/c19-week-4/test.csv\", parse_dates=['Date'])"
   ],
   "metadata": {
    "collapsed": false,
    "pycharm": {
     "name": "#%%\n",
     "is_executing": false
    }
   }
  },
  {
   "cell_type": "code",
   "execution_count": null,
   "outputs": [],
   "source": [
    "# vypis hlaviciek a opisov datasetov\n",
    "df_train.head()\n",
    "df_train.describe()\n",
    "df_train.info()\n",
    "\n",
    "df_test.head()\n",
    "df_train.describe()\n",
    "df_test.info()"
   ],
   "metadata": {
    "collapsed": false,
    "pycharm": {
     "name": "#%%\n",
     "is_executing": false
    }
   }
  },
  {
   "cell_type": "code",
   "execution_count": null,
   "outputs": [],
   "source": [
    "# teraz berieme policko Date ako String, preto ho preformatujem na Datetime format\n",
    "df_train['Date'] = pd.to_datetime(df_train['Date'], format='%Y-%m-%d')\n",
    "df_test['Date'] = pd.to_datetime(df_test['Date'], format='%Y-%m-%d')\n",
    "\n",
    "# a teraz ho uz vieme citat ako datum"
   ],
   "metadata": {
    "collapsed": false,
    "pycharm": {
     "name": "#%%\n",
     "is_executing": false
    }
   }
  },
  {
   "cell_type": "code",
   "execution_count": null,
   "outputs": [],
   "source": [
    "# vypis najstarsieho datumu a najnovsieho datumu z trenovacej mnoziny\n",
    "train_date_min = df_train['Date'].min()\n",
    "train_date_max = df_train['Date'].max()\n",
    "print('Najstarší dátum z trénovacej množiny: {}'.format(train_date_min))\n",
    "print('Najnovší dátum z trénovacej množiny: {}'.format(train_date_max))"
   ],
   "metadata": {
    "collapsed": false,
    "pycharm": {
     "name": "#%%\n",
     "is_executing": false
    }
   }
  },
  {
   "cell_type": "code",
   "execution_count": null,
   "outputs": [],
   "source": [
    "# to iste pre testovaciu mnozinu\n",
    "test_date_min = df_test['Date'].min()\n",
    "test_date_max = df_test['Date'].max()\n",
    "print('Najstarší dátum z testovacej množiny: {}'.format(test_date_min))\n",
    "print('Najnovší dátum z testovacej množiny: {}'.format(test_date_max))"
   ],
   "metadata": {
    "collapsed": false,
    "pycharm": {
     "name": "#%%\n",
     "is_executing": false
    }
   }
  },
  {
   "cell_type": "markdown",
   "source": [
    "# Predikcia nových nakazení"
   ],
   "metadata": {
    "collapsed": false,
    "pycharm": {
     "name": "#%% md\n"
    }
   }
  },
  {
   "cell_type": "code",
   "execution_count": null,
   "outputs": [],
   "source": [
    "df_train.head()\n",
    "x_train = df_train[[]]"
   ],
   "metadata": {
    "collapsed": false,
    "pycharm": {
     "name": "#%%\n",
     "is_executing": false
    }
   }
  },
  {
   "cell_type": "code",
   "source": [
    "# Pre predikciu novych pripadov vyuzijem Linearnu regresiu\n",
    "# Pridala som import sklearn\n",
    "for country in df_train['Country_Region'].unique():\n",
    "    print('Robim model pre krajinu: {}'.format(country))\n",
    "    df_train_country = df_train[df_train['Country_Region'] == country]\n",
    "    df_test_country = df_test[df_test['Country_Region'] == country]\n",
    "    \n",
    "    # zaujima ma, ci ma krajina provinciu, ak ano -> vetva else\n",
    "    if df_train_country['Province_State'].isna().unique().any():\n",
    "        # indexujem krajiny v csv subore - od a do\n",
    "        x_train = np.array(range(len(df_train_country))).reshape((-1, 1))\n",
    "        # print(x_train)\n",
    "        y_train = df_train_country['ConfirmedCases']\n",
    "        # print(y_train)\n",
    "        \n",
    "        # ucenie siete\n",
    "        model= Pipeline([('poly', PolynomialFeatures(degree=2)), ('linear', LinearRegression(fit_intercept=False))])\n",
    "        model.fit(x_train, y_train)\n",
    "        \n",
    "        x_test = np.array(range(len(df_test_country))).reshape((-1, 1))\n",
    "        prediction = model.predict(x_test)\n",
    "        \n",
    "        # negativne pripady nahradim nulou\n",
    "        prediction[prediction < 0] = 0\n",
    "        \n",
    "        # Vramci ConfirmedCases pridam sa novy stlpec v dataframe df_test kam vlozim predikciu k danej krajine\n",
    "        df_test.loc[df_test['Country_Region'] == country, 'ConfirmedCases'] = prediction\n",
    "        # print(type(prediction))\n",
    "        \n",
    "    else:\n",
    "        for state in df_train_country['Province_State'].unique():\n",
    "            df_train_state = df_train_country[df_train_country['Province_State'] == state]\n",
    "            df_test_state = df_test_country[df_test_country['Province_State'] == state]\n",
    "            \n",
    "            x_train = np.array(range(len(df_train_state))).reshape(-1, 1)\n",
    "            y_train = df_train_state['ConfirmedCases']\n",
    "            \n",
    "            model= Pipeline([('poly', PolynomialFeatures(degree=2)), ('linear', LinearRegression(fit_intercept=False))])\n",
    "            model.fit(x_train, y_train)\n",
    "            \n",
    "            x_test = np.array(range(len(df_test_state))).reshape((-1, 1))\n",
    "            prediction = model.predict(x_test)\n",
    "            \n",
    "            prediction[prediction < 0] = 0\n",
    "            \n",
    "            # Vramci ConfirmedCases pridam sa novy stlpec v dataframe df_test kam vlozim predikciu k danej krajine\n",
    "            df_test.loc[(df_test['Country_Region'] == country) & (df_test['Province_State'] == state), 'ConfirmedCases'] = prediction"
   ],
   "metadata": {
    "collapsed": false,
    "pycharm": {
     "name": "#%%\n",
     "is_executing": false
    }
   },
   "execution_count": null,
   "outputs": []
  },
  {
   "cell_type": "markdown",
   "source": [
    "## Vloženie naučených dát do *submission.csv*"
   ],
   "metadata": {
    "collapsed": false,
    "pycharm": {
     "name": "#%% md\n"
    }
   }
  },
  {
   "cell_type": "code",
   "execution_count": null,
   "outputs": [],
   "source": [
    "# len vlozim data do pripraveneho csv suboru\n",
    "df_submit = pd.read_csv('E:/Skola/PycharmProjects/nn_covid-19_predictions/data/models/c19-week-4/submission.csv')\n",
    "df_submit['ConfirmedCases'] = df_test['ConfirmedCases'].astype('int')\n",
    "df_submit.to_csv('E:/Skola/PycharmProjects/nn_covid-19_predictions/data/models/c19-week-4/submission.csv', index=False)"
   ],
   "metadata": {
    "collapsed": false,
    "pycharm": {
     "name": "#%%\n",
     "is_executing": false
    }
   }
  },
  {
   "cell_type": "code",
   "execution_count": null,
   "outputs": [],
   "source": [
    "df_test.head()"
   ],
   "metadata": {
    "collapsed": false,
    "pycharm": {
     "name": "#%%\n",
     "is_executing": false
    }
   }
  },
  {
   "cell_type": "code",
   "execution_count": null,
   "outputs": [],
   "source": [
    "df_train.info()"
   ],
   "metadata": {
    "collapsed": false,
    "pycharm": {
     "name": "#%%\n",
     "is_executing": false
    }
   }
  }
 ],
 "metadata": {
  "kernelspec": {
   "display_name": "Python 3",
   "language": "python",
   "name": "python3"
  },
  "language_info": {
   "codemirror_mode": {
    "name": "ipython",
    "version": 2
   },
   "file_extension": ".py",
   "mimetype": "text/x-python",
   "name": "python",
   "nbconvert_exporter": "python",
   "pygments_lexer": "ipython2",
   "version": "2.7.6"
  },
  "pycharm": {
   "stem_cell": {
    "cell_type": "raw",
    "source": [],
    "metadata": {
     "collapsed": false
    }
   }
  }
 },
 "nbformat": 4,
 "nbformat_minor": 0
}