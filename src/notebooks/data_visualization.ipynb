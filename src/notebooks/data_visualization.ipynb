{
 "cells": [
  {
   "cell_type": "code",
   "execution_count": 8,
   "outputs": [],
   "source": [
    "import matplotlib.pyplot as plt\n",
    "import pandas as pd"
   ],
   "metadata": {
    "collapsed": false,
    "pycharm": {
     "name": "#%%\n",
     "is_executing": false
    }
   }
  },
  {
   "cell_type": "code",
   "execution_count": 9,
   "outputs": [],
   "source": [
    "df = pd.read_csv(\"../../data/models/by-days/4-17-2020.csv\")  "
   ],
   "metadata": {
    "collapsed": false,
    "pycharm": {
     "name": "#%%\n",
     "is_executing": false
    }
   }
  },
  {
   "cell_type": "code",
   "execution_count": 10,
   "outputs": [],
   "source": [
    "# Filtrovanie iba Europskych krajin\n",
    "europe=df.loc[df.Country.isin(['Austria',\n",
    "'Belgium',\n",
    "'Bulgaria',\n",
    "'Croatia',\n",
    "'Cyprus',\n",
    "'Czechia',\n",
    "'Denmark',\n",
    "'Estonia',\n",
    "'Finland',\n",
    "'France',\n",
    "'Germany',\n",
    "'Greece',\n",
    "'Hungary',\n",
    "'Ireland',\n",
    "'Italy',\n",
    "'Latvia',\n",
    "'Lithuania',\n",
    "'Luxembourg',\n",
    "'Malta',\n",
    "'Netherlands',\n",
    "'Poland',\n",
    "'Portugal',\n",
    "'Romania', \n",
    "'Slovakia',\n",
    "'Slovenia',\n",
    "'Spain',\n",
    "'Sweden'])]"
   ],
   "metadata": {
    "collapsed": false,
    "pycharm": {
     "name": "#%%\n",
     "is_executing": false
    }
   }
  },
  {
   "cell_type": "code",
   "execution_count": 11,
   "outputs": [],
   "source": [
    "# Vyfiltrujem na krajiny EU\n",
    "europe = europe.filter([\"Country\",\"Confirmed\",\"Deaths\",\"Recovered\",\"Active\"], axis=1)\n",
    "# Krajiny, ktore maju viacero provincii, spojim a ostatne stlpce scitam\n",
    "# Zacnem cislovat od zaciatku\n",
    "europe = europe.groupby(['Country']).agg({'Confirmed':'sum','Deaths':'sum','Recovered':'sum','Active':'sum'}).reset_index()\n",
    "# indexovanie od 1, nie od 0\n",
    "europe.index = europe.index + 1 "
   ],
   "metadata": {
    "collapsed": false,
    "pycharm": {
     "name": "#%%\n",
     "is_executing": false
    }
   }
  },
  {
   "cell_type": "code",
   "execution_count": 18,
   "outputs": [
    {
     "data": {
      "text/plain": "        Country  Confirmed  Deaths  Recovered  Active\n1       Austria      14595     431       9704    4460\n2       Belgium      36138    5163       7961   23014\n3      Bulgaria        846      41        141     664\n4       Croatia       1814      36        600    1178\n5        Cyprus        750      12         77     661\n6       Czechia       6549     173       1174    5202\n7       Denmark       7268     336       3571    3361\n8       Estonia       1459      38        145    1276\n9       Finland       3489      82       1700    1707\n10       France     149130   18703      35006   95421\n11      Germany     141397    4352      83114   53931\n12       Greece       2224     108        269    1847\n13      Hungary       1763     156        207    1400\n14      Ireland      13980     530         77   13373\n15        Italy     172434   22745      42727  106962\n16       Latvia        682       5         88     589\n17    Lithuania       1149      33        210     906\n18   Luxembourg       3480      72        579    2829\n19        Malta        422       3         91     328\n20  Netherlands      30619    3471        315   26833\n21       Poland       8379     332        866    7181\n22     Portugal      19022     657        519   17846\n23      Romania       8067     411       1508    6148\n24     Slovakia       1049       9        175     865\n25     Slovenia       1304      66        174    1064\n26        Spain     190839   20002      74797   96040\n27       Sweden      13216    1400        550   11266",
      "text/html": "<div>\n<style scoped>\n    .dataframe tbody tr th:only-of-type {\n        vertical-align: middle;\n    }\n\n    .dataframe tbody tr th {\n        vertical-align: top;\n    }\n\n    .dataframe thead th {\n        text-align: right;\n    }\n</style>\n<table border=\"1\" class=\"dataframe\">\n  <thead>\n    <tr style=\"text-align: right;\">\n      <th></th>\n      <th>Country</th>\n      <th>Confirmed</th>\n      <th>Deaths</th>\n      <th>Recovered</th>\n      <th>Active</th>\n    </tr>\n  </thead>\n  <tbody>\n    <tr>\n      <th>1</th>\n      <td>Austria</td>\n      <td>14595</td>\n      <td>431</td>\n      <td>9704</td>\n      <td>4460</td>\n    </tr>\n    <tr>\n      <th>2</th>\n      <td>Belgium</td>\n      <td>36138</td>\n      <td>5163</td>\n      <td>7961</td>\n      <td>23014</td>\n    </tr>\n    <tr>\n      <th>3</th>\n      <td>Bulgaria</td>\n      <td>846</td>\n      <td>41</td>\n      <td>141</td>\n      <td>664</td>\n    </tr>\n    <tr>\n      <th>4</th>\n      <td>Croatia</td>\n      <td>1814</td>\n      <td>36</td>\n      <td>600</td>\n      <td>1178</td>\n    </tr>\n    <tr>\n      <th>5</th>\n      <td>Cyprus</td>\n      <td>750</td>\n      <td>12</td>\n      <td>77</td>\n      <td>661</td>\n    </tr>\n    <tr>\n      <th>6</th>\n      <td>Czechia</td>\n      <td>6549</td>\n      <td>173</td>\n      <td>1174</td>\n      <td>5202</td>\n    </tr>\n    <tr>\n      <th>7</th>\n      <td>Denmark</td>\n      <td>7268</td>\n      <td>336</td>\n      <td>3571</td>\n      <td>3361</td>\n    </tr>\n    <tr>\n      <th>8</th>\n      <td>Estonia</td>\n      <td>1459</td>\n      <td>38</td>\n      <td>145</td>\n      <td>1276</td>\n    </tr>\n    <tr>\n      <th>9</th>\n      <td>Finland</td>\n      <td>3489</td>\n      <td>82</td>\n      <td>1700</td>\n      <td>1707</td>\n    </tr>\n    <tr>\n      <th>10</th>\n      <td>France</td>\n      <td>149130</td>\n      <td>18703</td>\n      <td>35006</td>\n      <td>95421</td>\n    </tr>\n    <tr>\n      <th>11</th>\n      <td>Germany</td>\n      <td>141397</td>\n      <td>4352</td>\n      <td>83114</td>\n      <td>53931</td>\n    </tr>\n    <tr>\n      <th>12</th>\n      <td>Greece</td>\n      <td>2224</td>\n      <td>108</td>\n      <td>269</td>\n      <td>1847</td>\n    </tr>\n    <tr>\n      <th>13</th>\n      <td>Hungary</td>\n      <td>1763</td>\n      <td>156</td>\n      <td>207</td>\n      <td>1400</td>\n    </tr>\n    <tr>\n      <th>14</th>\n      <td>Ireland</td>\n      <td>13980</td>\n      <td>530</td>\n      <td>77</td>\n      <td>13373</td>\n    </tr>\n    <tr>\n      <th>15</th>\n      <td>Italy</td>\n      <td>172434</td>\n      <td>22745</td>\n      <td>42727</td>\n      <td>106962</td>\n    </tr>\n    <tr>\n      <th>16</th>\n      <td>Latvia</td>\n      <td>682</td>\n      <td>5</td>\n      <td>88</td>\n      <td>589</td>\n    </tr>\n    <tr>\n      <th>17</th>\n      <td>Lithuania</td>\n      <td>1149</td>\n      <td>33</td>\n      <td>210</td>\n      <td>906</td>\n    </tr>\n    <tr>\n      <th>18</th>\n      <td>Luxembourg</td>\n      <td>3480</td>\n      <td>72</td>\n      <td>579</td>\n      <td>2829</td>\n    </tr>\n    <tr>\n      <th>19</th>\n      <td>Malta</td>\n      <td>422</td>\n      <td>3</td>\n      <td>91</td>\n      <td>328</td>\n    </tr>\n    <tr>\n      <th>20</th>\n      <td>Netherlands</td>\n      <td>30619</td>\n      <td>3471</td>\n      <td>315</td>\n      <td>26833</td>\n    </tr>\n    <tr>\n      <th>21</th>\n      <td>Poland</td>\n      <td>8379</td>\n      <td>332</td>\n      <td>866</td>\n      <td>7181</td>\n    </tr>\n    <tr>\n      <th>22</th>\n      <td>Portugal</td>\n      <td>19022</td>\n      <td>657</td>\n      <td>519</td>\n      <td>17846</td>\n    </tr>\n    <tr>\n      <th>23</th>\n      <td>Romania</td>\n      <td>8067</td>\n      <td>411</td>\n      <td>1508</td>\n      <td>6148</td>\n    </tr>\n    <tr>\n      <th>24</th>\n      <td>Slovakia</td>\n      <td>1049</td>\n      <td>9</td>\n      <td>175</td>\n      <td>865</td>\n    </tr>\n    <tr>\n      <th>25</th>\n      <td>Slovenia</td>\n      <td>1304</td>\n      <td>66</td>\n      <td>174</td>\n      <td>1064</td>\n    </tr>\n    <tr>\n      <th>26</th>\n      <td>Spain</td>\n      <td>190839</td>\n      <td>20002</td>\n      <td>74797</td>\n      <td>96040</td>\n    </tr>\n    <tr>\n      <th>27</th>\n      <td>Sweden</td>\n      <td>13216</td>\n      <td>1400</td>\n      <td>550</td>\n      <td>11266</td>\n    </tr>\n  </tbody>\n</table>\n</div>"
     },
     "metadata": {},
     "output_type": "execute_result",
     "execution_count": 18
    }
   ],
   "source": [
    "# Vypis vysledneho dataframu Europy\n",
    "europe"
   ],
   "metadata": {
    "collapsed": false,
    "pycharm": {
     "name": "#%%\n",
     "is_executing": false
    }
   }
  },
  {
   "cell_type": "code",
   "execution_count": null,
   "outputs": [],
   "source": [],
   "metadata": {
    "collapsed": false,
    "pycharm": {
     "name": "#%%\n",
     "is_executing": false
    }
   }
  }
 ],
 "metadata": {
  "kernelspec": {
   "display_name": "Python 3",
   "language": "python",
   "name": "python3"
  },
  "language_info": {
   "codemirror_mode": {
    "name": "ipython",
    "version": 2
   },
   "file_extension": ".py",
   "mimetype": "text/x-python",
   "name": "python",
   "nbconvert_exporter": "python",
   "pygments_lexer": "ipython2",
   "version": "2.7.6"
  },
  "pycharm": {
   "stem_cell": {
    "cell_type": "raw",
    "source": [],
    "metadata": {
     "collapsed": false
    }
   }
  }
 },
 "nbformat": 4,
 "nbformat_minor": 0
}