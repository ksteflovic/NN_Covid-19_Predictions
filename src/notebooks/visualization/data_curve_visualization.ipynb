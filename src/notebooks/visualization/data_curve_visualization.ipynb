{
 "cells": [
  {
   "cell_type": "code",
   "execution_count": 3,
   "outputs": [],
   "source": [
    "# import matplotlib.pyplot as plt\n",
    "import pandas as pd"
   ],
   "metadata": {
    "collapsed": false,
    "pycharm": {
     "name": "#%%\n",
     "is_executing": false
    }
   }
  },
  {
   "cell_type": "code",
   "execution_count": 4,
   "outputs": [],
   "source": [
    "df = pd.read_csv(\"../../data/models/complete/covid_19_clean_complete.csv\") \n"
   ],
   "metadata": {
    "collapsed": false,
    "pycharm": {
     "name": "#%%\n",
     "is_executing": false
    }
   }
  },
  {
   "cell_type": "code",
   "execution_count": 14,
   "outputs": [],
   "source": [
    "udaje = df.groupby(['Country/Region','Date'])[['Confirmed','Deaths','Recovered']].sum()"
   ],
   "metadata": {
    "collapsed": false,
    "pycharm": {
     "name": "#%%\n",
     "is_executing": false
    }
   }
  },
  {
   "cell_type": "code",
   "execution_count": 15,
   "outputs": [
    {
     "name": "stdout",
     "text": [
      "                        Confirmed  Deaths  Recovered\n",
      "Country/Region Date                                 \n",
      "Afghanistan    1/22/20          0       0          0\n",
      "               1/23/20          0       0          0\n",
      "               1/24/20          0       0          0\n",
      "               1/25/20          0       0          0\n",
      "               1/26/20          0       0          0\n",
      "...                           ...     ...        ...\n",
      "Zimbabwe       4/5/20           9       1          0\n",
      "               4/6/20          10       1          0\n",
      "               4/7/20          11       2          0\n",
      "               4/8/20          11       3          0\n",
      "               4/9/20          11       3          0\n",
      "\n",
      "[17205 rows x 3 columns]\n"
     ],
     "output_type": "stream"
    }
   ],
   "source": [
    "print(udaje)"
   ],
   "metadata": {
    "collapsed": false,
    "pycharm": {
     "name": "#%%\n",
     "is_executing": false
    }
   }
  },
  {
   "cell_type": "code",
   "execution_count": null,
   "outputs": [],
   "source": [
    "\n"
   ],
   "metadata": {
    "collapsed": false,
    "pycharm": {
     "name": "#%%\n"
    }
   }
  }
 ],
 "metadata": {
  "kernelspec": {
   "display_name": "Python 3",
   "language": "python",
   "name": "python3"
  },
  "language_info": {
   "codemirror_mode": {
    "name": "ipython",
    "version": 2
   },
   "file_extension": ".py",
   "mimetype": "text/x-python",
   "name": "python",
   "nbconvert_exporter": "python",
   "pygments_lexer": "ipython2",
   "version": "2.7.6"
  },
  "pycharm": {
   "stem_cell": {
    "cell_type": "raw",
    "source": [],
    "metadata": {
     "collapsed": false
    }
   }
  }
 },
 "nbformat": 4,
 "nbformat_minor": 0
}