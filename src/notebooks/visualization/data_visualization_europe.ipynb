{
 "cells": [
  {
   "cell_type": "code",
   "execution_count": 1,
   "outputs": [],
   "source": [
    "# import matplotlib.pyplot as plt\n",
    "import pandas as pd"
   ],
   "metadata": {
    "collapsed": false,
    "pycharm": {
     "name": "#%%\n",
     "is_executing": false
    }
   }
  },
  {
   "cell_type": "code",
   "execution_count": 2,
   "outputs": [
    {
     "traceback": [
      "\u001b[1;31m---------------------------------------------------------------------------\u001b[0m",
      "\u001b[1;31mAttributeError\u001b[0m                            Traceback (most recent call last)",
      "\u001b[1;32m<ipython-input-2-3d7e137d225a>\u001b[0m in \u001b[0;36m<module>\u001b[1;34m\u001b[0m\n\u001b[1;32m----> 1\u001b[1;33m \u001b[0mdf\u001b[0m \u001b[1;33m=\u001b[0m \u001b[0mpd\u001b[0m\u001b[1;33m.\u001b[0m\u001b[0mread_csv\u001b[0m\u001b[1;33m(\u001b[0m\u001b[1;34m\"../../data/models/by-days/4-17-2020.csv\"\u001b[0m\u001b[1;33m)\u001b[0m\u001b[1;33m\u001b[0m\u001b[0m\n\u001b[0m\u001b[0;32m      2\u001b[0m \u001b[1;33m\u001b[0m\u001b[0m\n",
      "\u001b[1;31mAttributeError\u001b[0m: module 'pandas' has no attribute 'read_csv'"
     ],
     "ename": "AttributeError",
     "evalue": "module 'pandas' has no attribute 'read_csv'",
     "output_type": "error"
    }
   ],
   "source": [
    "df = pd.read_csv(\"../../data/models/by-days/4-17-2020.csv\")  "
   ],
   "metadata": {
    "collapsed": false,
    "pycharm": {
     "name": "#%%\n",
     "is_executing": false
    }
   }
  },
  {
   "cell_type": "code",
   "execution_count": null,
   "outputs": [],
   "source": [
    "# Filtrovanie iba Europskych krajin\n",
    "europe=df.loc[df.Country.isin(['Austria',\n",
    "'Belgium',\n",
    "'Bulgaria',\n",
    "'Croatia',\n",
    "'Cyprus',\n",
    "'Czechia',\n",
    "'Denmark',\n",
    "'Estonia',\n",
    "'Finland',\n",
    "'France',\n",
    "'Germany',\n",
    "'Greece',\n",
    "'Hungary',\n",
    "'Ireland',\n",
    "'Italy',\n",
    "'Latvia',\n",
    "'Lithuania',\n",
    "'Luxembourg',\n",
    "'Malta',\n",
    "'Netherlands',\n",
    "'Poland',\n",
    "'Portugal',\n",
    "'Romania', \n",
    "'Slovakia',\n",
    "'Slovenia',\n",
    "'Spain',\n",
    "'Sweden'])]"
   ],
   "metadata": {
    "collapsed": false,
    "pycharm": {
     "name": "#%%\n",
     "is_executing": false
    }
   }
  },
  {
   "cell_type": "code",
   "execution_count": null,
   "outputs": [],
   "source": [
    "# Vyfiltrujem na krajiny EU\n",
    "europe = europe.filter([\"Country\",\"Confirmed\",\"Deaths\",\"Recovered\",\"Active\"], axis=1)\n",
    "# Krajiny, ktore maju viacero provincii, spojim a ostatne stlpce scitam\n",
    "# Zacnem cislovat od zaciatku\n",
    "europe = europe.groupby(['Country']).agg({'Confirmed':'sum','Deaths':'sum','Recovered':'sum','Active':'sum'}).reset_index()\n",
    "# indexovanie od 1, nie od 0\n",
    "europe.index = europe.index + 1 "
   ],
   "metadata": {
    "collapsed": false,
    "pycharm": {
     "name": "#%%\n",
     "is_executing": false
    }
   }
  },
  {
   "cell_type": "code",
   "execution_count": null,
   "outputs": [],
   "source": [
    "# Vypis vysledneho dataframu Europy\n",
    "europe"
   ],
   "metadata": {
    "collapsed": false,
    "pycharm": {
     "name": "#%%\n",
     "is_executing": false
    }
   }
  },
  {
   "cell_type": "code",
   "execution_count": null,
   "outputs": [],
   "source": [
    "# Stack Bar Graf\n",
    "# 10 najnakazenejsich\n",
    "# Vypis celkoveho poctu, poctu ,umrti, nakazenych a vyliecenych\n",
    "colors = [\"#CCAAFF\",\n",
    "          \"#FFAACC\",\n",
    "          \"#CCFFCC\",\n",
    "          \"#FFDDCC\"]\n",
    "europe.set_index('Country').nlargest(10, 'Confirmed').loc[:,['Confirmed','Deaths', 'Recovered','Active']].plot.bar(stacked=True, color=colors, title='10 countries with biggest confirmed cases')\n",
    "\n",
    "# 10 krajin od najmensieho poctu pripadov\n",
    "europe.set_index('Country').sort_values('Confirmed').head(10).loc[:,['Confirmed','Deaths', 'Recovered','Active']].plot.bar(stacked=True, color=colors, title='10 countries with smallest confirmed cases')\n"
   ],
   "metadata": {
    "collapsed": false,
    "pycharm": {
     "name": "#%%\n",
     "is_executing": false
    }
   }
  },
  {
   "cell_type": "code",
   "execution_count": null,
   "outputs": [],
   "source": [
    "\n"
   ],
   "metadata": {
    "collapsed": false,
    "pycharm": {
     "name": "#%%\n",
     "is_executing": false
    }
   }
  }
 ],
 "metadata": {
  "kernelspec": {
   "display_name": "Python 3",
   "language": "python",
   "name": "python3"
  },
  "language_info": {
   "codemirror_mode": {
    "name": "ipython",
    "version": 2
   },
   "file_extension": ".py",
   "mimetype": "text/x-python",
   "name": "python",
   "nbconvert_exporter": "python",
   "pygments_lexer": "ipython2",
   "version": "2.7.6"
  },
  "pycharm": {
   "stem_cell": {
    "cell_type": "raw",
    "source": [],
    "metadata": {
     "collapsed": false
    }
   }
  }
 },
 "nbformat": 4,
 "nbformat_minor": 0
}